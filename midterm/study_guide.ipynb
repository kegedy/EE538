{
 "cells": [
  {
   "cell_type": "markdown",
   "metadata": {},
   "source": [
    "# Study Guide\n",
    "EE 538 Spring 2020 <br>\n",
    "Analog Circuits for Sensor Systems <br>\n",
    "University of Washington Electrical & Computer Engineering <br>\n",
    "\n",
    "Due: May 17, 2020 <br>\n",
    "Author: Kevin Egedy\n",
    "\n",
    "<hr>"
   ]
  },
  {
   "cell_type": "markdown",
   "metadata": {},
   "source": [
    "<img src=\"images/simple_amps.png\" width=\"600\">\n",
    "\n",
    "<hr>"
   ]
  },
  {
   "cell_type": "markdown",
   "metadata": {},
   "source": [
    "### Difference Amplifier\n",
    "\n",
    "<img src=\"images/difference_amp.png\" width=\"300\">\n",
    "\n",
    "$$\\begin{eqnarray}\n",
    "&& V_{\\text{out2}} &=& V_{\\text{ip}}\\frac{R_2}{R_1+R_2}(1+\\frac{R_4}{R_3}) \\\\[0.5em]\n",
    "&& V_{\\text{out1}} &=& -V_{\\text{im}}\\frac{R_4}{R_3} \\\\[0.5em]\n",
    "&& V_{\\text{out}} &=& V_{\\text{out2}}+ V_{\\text{out1}} \\\\[0.5em]\n",
    "&& &=& V_{\\text{ip}}\\frac{R_2}{R_1+R_2}(1+\\frac{R_4}{R_3})\n",
    "-V_{\\text{im}}\\frac{R_4}{R_3} \\\\[0.5em]\n",
    "&& \\text{Note:}&& \\text{weight of each signal must be the same} \\\\[0.5em]\n",
    "&& && \\frac{R_2}{R_1+R_2}(1+\\frac{R_4}{R_3}) = \\frac{R_4}{R_3} \\rightarrow \\frac{R_2}{R_1} = \\frac{R_4}{R_3}\\\\[0.5em]\n",
    "&& V_{\\text{out}} &=& \\frac{R_2}{R_1}(V_{\\text{ip}}-V_{\\text{im}}) \\\\[0.5em]\n",
    "\\end{eqnarray}$$\n",
    "\n",
    "<hr>"
   ]
  },
  {
   "cell_type": "markdown",
   "metadata": {},
   "source": [
    "### Amplifier Feedback\n",
    "\n",
    "$$\\begin{eqnarray}\n",
    "&& A_{CL} = \\frac{V_{\\text{out}}}{V_{\\text{in}}} &=& \\frac{A}{1+\\beta A}\n",
    "\\end{eqnarray}$$\n",
    "\n",
    "<hr>"
   ]
  },
  {
   "cell_type": "markdown",
   "metadata": {},
   "source": [
    "### Finite Gain Amplifier Summary\n",
    "\n",
    "<img src=\"images/nonideal_amplifier_summary.png\" width=\"500\">\n",
    "\n",
    "<hr>"
   ]
  },
  {
   "cell_type": "markdown",
   "metadata": {},
   "source": [
    "### Amplifier Frequency Response\n",
    "\n",
    "<img src=\"images/frequency_response.png\" width=\"400\">\n",
    "\n",
    "$\\begin{eqnarray}\n",
    "&& f_{T} &=& |s_0| \\\\[0.5em]\n",
    "&& A_{OL}(s) &=& \\frac{A_0}{1+s\\tau }  \\\\[0.5em]\n",
    "&& f_{3\\text{dB},\\text{OL}} &=& \\frac{1}{\\tau} = \\frac{f_T}{A_0} \\\\[0.5em]\n",
    "&& A_{CL}(s) &=& \\frac{A_0}{1+s\\tau + \\beta A_0}  \\\\[0.5em]\n",
    "&& f_{3\\text{dB},\\text{CL}} &=& \\frac{1+\\beta A_0}{\\tau_{\\text{OL}}} &\\approx&\n",
    "\\frac{\\beta A_0}{\\tau_{\\text{OL}}} = \\beta f_T \n",
    "\\Bigg|_{f_T = \\text{MHz}, \\beta = }  \\\\[0.5em]\n",
    "\\end{eqnarray}$\n",
    "\n",
    "<hr>"
   ]
  },
  {
   "cell_type": "markdown",
   "metadata": {},
   "source": [
    "### Closed-Loop Gain Error\n",
    "\n",
    "$\\begin{eqnarray}\n",
    "&& A_{CL}(s) &=& \\frac{A_0}{1+s\\tau + \\beta A_0}  \\\\[0.5em]\n",
    "&& |A_{CL}(s)| &=& \\frac{\\frac{1}{\\beta}}{\\sqrt{1+\\frac{\\omega^2}{\\omega_{3dB}^2}}} \n",
    " \\\\[0.5em] \n",
    "&& \\text{Solve: }|A_{CL}(s)| && \\omega = 2\\pi f_T, & \\omega_{3dB} = \\beta w_T \\\\[0.5em]\n",
    "&& G_{\\text{actual}} &=& |A_{CL}(s)| \\\\[0.5em]\n",
    "&& G_{\\text{ideal}} &=& \\frac{1}{\\beta} \\\\[0.5em]\n",
    "&& \\delta_{G} &=& \\frac{G_{\\text{ideal}}-G_{\\text{actual}}}{G_{\\text{ideal}}} \\\\[0.5em]\n",
    "\\end{eqnarray}$\n",
    "\n",
    "<hr>"
   ]
  },
  {
   "cell_type": "markdown",
   "metadata": {},
   "source": [
    "### Input Offset Voltage\n",
    "\n",
    "<img src=\"images/input_offset_voltage.png\" width=\"400\">\n",
    "\n",
    "$$\\begin{align}\n",
    "  \\begin{array}{ll}\n",
    "  \\frac{V_{in}-v_{os}}{R_1} = \\frac{v_{os}-V_{out}}{R_2} \\\\[0.5em]\n",
    "  V_{out} = \\frac{-R_2}{R_1}V_{in} + v_{os}(1+\\frac{R_2}{R_1})\n",
    "  \\end{array}\n",
    "\\end{align}$$\n",
    "\n",
    "<hr>"
   ]
  },
  {
   "cell_type": "markdown",
   "metadata": {},
   "source": [
    "### Input Offset Current\n",
    "\n",
    "<img src=\"images/input_bias_current.png\" width=\"300\">\n",
    "\n",
    "Analyze with no inputs\n",
    "\n",
    "$$\\begin{align}\n",
    "  \\begin{array}{ll}\n",
    "  v_{i}^{-} = 0     \\\\[0.5em]\n",
    "  I_{R2} = I_B      \\\\[0.5em]\n",
    "  V_{out} = I_B R_2 \\\\[0.5em]\n",
    "  \\end{array}\n",
    "\\end{align}$$\n",
    "\n",
    "### Bias Current Compensation\n",
    "\n",
    "<img src=\"images/input_bias_compensation.png\" width=\"300\">\n",
    "\n",
    "Solution: add a resistor to equalize the voltage drops due to input bias current. <br>\n",
    "Set $R_3 = R_1 \\parallel R_2$\n",
    "\n",
    "$$\\begin{align}\n",
    "  \\begin{array}{ll}\n",
    "  v_{i}^{+} = v_{i}^{-} &= -I_B R_3 \\\\[0.5em]\n",
    "  V_{out}   &= I_B R_2 - (1 + \\frac{R_2}{R_1}) I_B R_3 \\\\[0.5em]\n",
    "            &= -(1 + \\frac{R_2}{R_1}) I_{B}^{+} R_3 + \n",
    "            I_{B}^{-}R_2 \\\\[0.5em]\n",
    "            &= R_2 (I_{B}^{-} - I_{B}^{+}) \\\\[0.5em]\n",
    "            &= R_2 I_{OS}\n",
    "  \\end{array}\n",
    "\\end{align}$$\n",
    "\n",
    "<hr>"
   ]
  },
  {
   "cell_type": "markdown",
   "metadata": {},
   "source": [
    "### DC & AC Transistor Analysis\n",
    "\n",
    "<img src=\"images/transistor_analysis.png\" width=\"600\">\n"
   ]
  },
  {
   "cell_type": "markdown",
   "metadata": {},
   "source": [
    "### Small Signal Model\n",
    "\n",
    "$$\\begin{align}\n",
    "  \\begin{array}{ll}\n",
    "    \\text{BJT} && \\text{FET} \\\\[0.5em]\n",
    "    g_m = \\frac{\\partial{I_C}}{\\partial{V_{BE}}} = \\frac{I_{C0}}{V_T} \\approx 40I_C && \n",
    "    g_m = \\frac{\\partial{I_D}}{\\partial{V_{GS}}} = 2\\kappa(V_{GS}-V_{th})  \n",
    "        =\\frac{2I_{D0}}{V_{GS}-V_{th}} \\\\[0.5em]\n",
    "    r_0 = \\frac{V_A}{I_{C0}} && r_0 = \n",
    "    \\frac{\\partial{I_D}}{\\partial{V_{DS}}} = \\frac{1}{\\lambda I_{D0}} \\\\[0.5em]\n",
    "    r_{\\pi} = \\frac{\\beta}{g_m} && r_{\\pi} = 0 \\rightarrow \\text{high input resistance} \\\\[0.5em]\n",
    "  \\end{array}\n",
    "\\end{align}$$\n",
    "\n",
    "<hr>"
   ]
  },
  {
   "cell_type": "markdown",
   "metadata": {},
   "source": [
    "### Transconductance Efficiency\n",
    "\n",
    "Typically $I_{C}= I_{C0}$ and $I_{D}= I_{D0}$\n",
    "\n",
    "$\\begin{eqnarray}\n",
    "&& \\text{BJT} &=& \\frac{g_m}{I_C} &=& \\frac{I_{C0}}{I_C V_T} &\\approx& \\frac{1}{V_T} &=& 38.67 \\text{V}^{-1} \\Bigg|_{T=300K} \\\\[0.5em]\n",
    "&& \\text{FET}  &=& \\frac{g_m}{I_D} &=& \\frac{2I_{D0}}{I_D(V_{\\text{GS}}-V_{\\text{th}})}\n",
    "&\\approx& \\frac{2}{V_{\\text{GS}}-V_{\\text{th}}}\n",
    "\\end{eqnarray}$\n",
    "\n",
    "<hr>"
   ]
  },
  {
   "cell_type": "markdown",
   "metadata": {},
   "source": [
    "### NPN BJT\n",
    "\n",
    "<img src=\"images/BJT_small_signal.png\" width=\"300\">\n",
    "\n",
    "$$\\begin{eqnarray}\n",
    "&& V_{CE} &\\gt& 0 \\\\[0.5em]\n",
    "&& V_{BE} &\\approx& 0.6V \\\\[0.5em]\n",
    "&& I_C    &=& \\beta I_B \\\\[0.5em]\n",
    "&& I_E    &=& (\\beta +1)I_B \\\\[0.5em]\n",
    "&& I_C    &\\approx& I_E, \\text{ for large } \\beta \\\\[0.5em]\n",
    "\\end{eqnarray}$$\n",
    "\n",
    "<hr>"
   ]
  },
  {
   "cell_type": "markdown",
   "metadata": {},
   "source": [
    "### N-channel FET\n",
    "\n",
    "Enhancement-mode: semiconductor is doped to limit conduction to gate-source voltages above $V_{th}$<br>\n",
    "For linear circuits, FETs typically operation in the saturation region\n",
    "\n",
    "<img src=\"images/FET_small_signal.png\" width=\"300\">\n",
    "\n",
    "\n",
    "$$\\begin{align}\n",
    "  \\begin{array}{ll}\n",
    "  \\text{Linear Region}           && \\text{Saturation Region} && \\\\[0.5em]\n",
    "  V_{DS} \\lt V_{GS}-V{th} && V_{DS} \\gt V_{GS}-V{th}         && \\\\[0.5em]\n",
    "  I_D = 2\\kappa [(V_{GS}-V_{th})V_{DS} - \\frac{{V_{DS}}^2}{2}] &&\n",
    "  I_D = \\kappa(V_{GS}-V_{th})^2  && \\\\[0.5em]\n",
    "  \\end{array}\n",
    "\\end{align}$$\n",
    "\n",
    "<br>\n",
    "<img src=\"images/operation_regions.png\" width=\"400\">\n",
    "\n",
    "<hr>"
   ]
  },
  {
   "cell_type": "markdown",
   "metadata": {},
   "source": [
    "### FET Output Resistance ($r_0$) in Saturation\n",
    "\n",
    "$\\begin{eqnarray}\n",
    "&& I_{D0} &=& \\kappa (V_{GS}-V{th})^2 \\\\[0.5em]\n",
    "&& I_{D}  &=& I_{D0} (1 + \\lambda V_{DS}) \\\\[0.5em]\n",
    "&& r_0    &=& \\frac{\\partial{I_D}}{\\partial{V_{DS}}} = \\frac{1}{\\lambda I_{D0}}\n",
    "\\end{eqnarray}$\n",
    "\n",
    "<br>\n",
    "Note: $\\lambda$ is typically $0.1V^{-1}$\n",
    "\n",
    "<hr>"
   ]
  },
  {
   "cell_type": "markdown",
   "metadata": {},
   "source": [
    "### Ebers-Moll\n",
    "\n",
    "Models the BJT as a transconductance device, rather than a current amplifier <br>\n",
    "Describes the large signal behavior of collector current with respect to base-emitter voltage\n",
    "\n",
    "\n",
    "\n",
    "$\\begin{eqnarray}\n",
    "&& V_T    &&=&& \\frac{kT}{q}=25.86\\text{mV} \\Bigg|_{T=300K=27C}\\\\[0.5em]\n",
    "&& I_C    &&=&& I_S(T)(e^{\\frac{V_{BE}}{V_T}}-1)        &&\\approx&& I_Se^{\\frac{V_{BE}}{V_T}} \\\\[0.5em]\n",
    "&& V_{BE} &&=&& \\frac{kT}{q}\\ln{(\\frac{I_C}{I_S(T)}+1)} &&\\approx&& \\frac{kT}{q}\\ln{(\\frac{I_C}{I_S})} \\\\[0.5em]\n",
    "\\end{eqnarray}$\n",
    "\n",
    "<hr>"
   ]
  },
  {
   "cell_type": "markdown",
   "metadata": {},
   "source": [
    "### Early Effect\n",
    "\n",
    "Early Voltage ($V_A$): captures the variation of $I_C$ with $V_{CE}$\n",
    "\n",
    "$\\begin{eqnarray}\n",
    "&& I_{C0} &=& I_S(e^{\\frac{V_{BE}}{V_T}-1}) \\\\[0.5em]\n",
    "&& I_C &=& I_{C0}(1+\\frac{V_{CE}}{V_A}) \\\\[0.5em]\n",
    "&& V_A &\\gg& V_{CE} &\\rightarrow& I_C \\approx I_{C0} \n",
    "\\end{eqnarray}$\n",
    "\n",
    "<hr>"
   ]
  },
  {
   "cell_type": "markdown",
   "metadata": {},
   "source": [
    "<img src=\"images/settling_time.png\" width=\"500\">\n",
    "\n",
    "<hr>"
   ]
  },
  {
   "cell_type": "markdown",
   "metadata": {},
   "source": [
    "### Inverting Input Resistance\n",
    "\n",
    "<img src=\"images/input_resistance_inverting.png\" width=\"800\">\n",
    "\n",
    "<hr>"
   ]
  },
  {
   "cell_type": "markdown",
   "metadata": {},
   "source": [
    "### Non-inverting Input Resistance\n",
    "\n",
    "<img src=\"images/input_resistance_noninverting.png\" width=\"800\">\n",
    "\n",
    "<hr>"
   ]
  },
  {
   "cell_type": "markdown",
   "metadata": {},
   "source": [
    "### Output Resistance\n",
    "\n",
    "<img src=\"images/output_resistance.png\" width=\"800\">\n",
    "\n",
    "<hr>"
   ]
  },
  {
   "cell_type": "markdown",
   "metadata": {},
   "source": [
    "<img src=\"images/laplace.png\" width=\"800\">\n"
   ]
  },
  {
   "cell_type": "code",
   "execution_count": null,
   "metadata": {},
   "outputs": [],
   "source": []
  }
 ],
 "metadata": {
  "kernelspec": {
   "display_name": "Python 3",
   "language": "python",
   "name": "python3"
  },
  "language_info": {
   "codemirror_mode": {
    "name": "ipython",
    "version": 3
   },
   "file_extension": ".py",
   "mimetype": "text/x-python",
   "name": "python",
   "nbconvert_exporter": "python",
   "pygments_lexer": "ipython3",
   "version": "3.7.4"
  }
 },
 "nbformat": 4,
 "nbformat_minor": 2
}
