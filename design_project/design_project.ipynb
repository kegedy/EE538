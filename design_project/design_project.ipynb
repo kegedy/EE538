{
 "cells": [
  {
   "cell_type": "markdown",
   "metadata": {},
   "source": [
    "# Strain-Gage Low Noise Signal Conditioning\n",
    "\n",
    "<img src=\"images/architecture.png\" width=\"600\">"
   ]
  },
  {
   "cell_type": "markdown",
   "metadata": {},
   "source": [
    "<img src=\"images/Phase1Specs.png\" width=\"600\">"
   ]
  },
  {
   "cell_type": "markdown",
   "metadata": {},
   "source": [
    "*Reference:* <br>\n",
    "https://www.ni.com/en-us/innovations/white-papers/07/measuring-strain-with-strain-gages.html <br>\n",
    "https://ecee.colorado.edu/~mcclurel/resistorsandcaps.pdf <br>\n",
    "http://www.resistorguide.com/resistor-values/ <br>\n",
    "https://www.analog.com/media/en/training-seminars/tutorials/MT-049.pdf"
   ]
  },
  {
   "cell_type": "markdown",
   "metadata": {},
   "source": [
    "\n",
    "\n",
    "#### Step 3 : Be sure to include the noise from the strain gage resistance.You should model the strain gage as a Thevenin equivalent circuit."
   ]
  },
  {
   "cell_type": "markdown",
   "metadata": {},
   "source": [
    "<img src=\"images/StrainGage.png\" width=\"500\">"
   ]
  },
  {
   "cell_type": "markdown",
   "metadata": {},
   "source": [
    "$T=25C$ <br>\n",
    "$kT = 4.1145e-21$ <br>\n",
    "$R = R_1 = R_2 = R_3 = R_4 = 1000 \\Omega $\n",
    "\n",
    "$\\begin{eqnarray}\n",
    "&& R_{eq} &=& (R_1 \\parallel R_2) + (R_3 \\parallel (R_4 + \\Delta R))  \\\\[0.5em]\n",
    "&& R_{eq}\\Bigg|_{\\Delta R=0} &=& (\\frac{R}{2}) + (\\frac{R}{2}) = R \\\\[0.5em]\n",
    "&& k &=& 1.381 \\cdot 10^{−23} \\text{Joule/ Kelvin} \\\\[0.5em]\n",
    "&& e_n^2 &=& 4kTR_{eq}\\Bigg|_{T=25C} \\\\[0.5em]\n",
    "&& &=& 4 \\cdot (4.1145e-21) \\cdot (1000) \\\\[0.5em]\n",
    "&& &=& 1.6458 \\cdot 10^{-17} \\frac{V^2}{\\text{Hz}} \\\\[0.5em]\n",
    "\\end{eqnarray}$\n",
    "\n",
    "<hr>"
   ]
  },
  {
   "cell_type": "markdown",
   "metadata": {},
   "source": [
    "#### Step 1 : Determine the input-referred voltage noise density required to meet the specifications."
   ]
  },
  {
   "cell_type": "markdown",
   "metadata": {},
   "source": [
    "$\\begin{eqnarray}\n",
    "&& \\text{SNR} &=& 20\\log\\frac{v_{s(rms)}}{v_{n(rms)}} \\rightarrow\n",
    "20\\log\\frac{7.07\\text{mV}}{v_{n(rms)}} \\geq 77\\text{dB} \\\\[0.5em]\n",
    "&& v_{n,in(rms)} &\\leq& 1 \\mu V \\\\[0.5em]\n",
    "\\end{eqnarray}$\n",
    "\n",
    "<hr>"
   ]
  },
  {
   "cell_type": "markdown",
   "metadata": {},
   "source": [
    "$\\begin{eqnarray}\n",
    "&& v_{n,in(\\text{rms})} &=& \\sqrt{v_{n,in}^2 \\cdot 5\\text{KHz}} \\leq 1 \\mu V \\\\[0.5em]\n",
    "&& && v_{n,in} \\leq \\frac{1 \\mu V}{\\sqrt{5\\text{KHz}}} \n",
    "\\approx 1.41\\cdot 10^{-8} \\frac{V}{\\sqrt{\\text{Hz}}}\n",
    "\\end{eqnarray}$"
   ]
  },
  {
   "cell_type": "markdown",
   "metadata": {},
   "source": [
    "#### Step 2 : Perform noise analysis of the instrumentation amplifier and determine the relative impact of all noise sources on the input-referred noise."
   ]
  },
  {
   "cell_type": "code",
   "execution_count": null,
   "metadata": {},
   "outputs": [],
   "source": []
  },
  {
   "cell_type": "markdown",
   "metadata": {},
   "source": [
    "#### Step X: Use the first stage to realize the required gain. This will minimize the impact of U3’s noise, as well as that of R1and R2."
   ]
  },
  {
   "cell_type": "markdown",
   "metadata": {},
   "source": [
    "$\\frac{2V_{p-p}}{20mV_{p-p}} = 100 \\frac{V}{V} = 40$dB of gain. <br>\n",
    "<br>\n",
    "Choose $U_1$ and $U_2$ to have 74dB gain. <br>\n",
    "Choose $R_G = 82$ such that $R_G$ would be  less than 250K. <br>\n",
    "<br>\n",
    "Choose $U_3$ to have ~3dB. <br>\n",
    "Choose $R_2 = 1.5 R_1$. <br>\n",
    "<br>\n",
    "Resistor values were chosen based on the E24 series with 5% tolerance. <br>\n",
    "Note that total gain will be 78.1dB with these values. Extra 1.1dB will be used for error margin."
   ]
  },
  {
   "cell_type": "markdown",
   "metadata": {},
   "source": [
    "$\\begin{eqnarray} \n",
    "&& \\frac{V_{out_1}}{V_{in}} &=& 1+2\\frac{R_F}{R_G} = 74\\text{dB} \\\\[0.5em]\n",
    "&& && 1+2\\frac{R_F}{R_G} \\approx 5012 \\\\[0.5em]\n",
    "&& && \\frac{R_F}{R_G} \\approx 2505 \\\\[0.5em]\n",
    "&& && R_G = 82, R_F = 220K \\\\[0.5em]\n",
    "\\\\[0.5em]\n",
    "&& \\frac{V_{out_2}}{V_{out_1}} &=& \\frac{R_2}{R_1} \\approx 3 \\text{dB} \\\\[0.5em]\n",
    "&& \\text{Choose } && \\frac{R_2}{R_1} = 1.5 \\\\[0.5em]\n",
    "&& && R_1 = 1K, R_2 = 1.5K \\\\[0.5em]\n",
    "\\\\[0.5em]\n",
    "&& \\frac{V_{out_1}}{V_{in}} \\frac{V_{out_2}}{V_{out_1}} &=& \n",
    "(1+2\\frac{R_F}{R_G}) \\cdot (\\frac{R_2}{R_1}) \\\\[0.5em]\n",
    "&& &=& (5367) \\cdot (1.5) \\\\[0.5em]\n",
    "&& &=& 8050 = 78.1 \\text{ dB} \\\\[0.5em]\n",
    "\\end{eqnarray}$"
   ]
  },
  {
   "cell_type": "markdown",
   "metadata": {},
   "source": [
    "#### Step X: Select  component  values  that  allow  you  to  achieve  the  noise  target,  with  resistor tolerances that make it possible to meet the CMRR specification."
   ]
  },
  {
   "cell_type": "markdown",
   "metadata": {},
   "source": [
    "$\\begin{eqnarray}\n",
    "&& \\text{CMMR}_1 &=& 1+\\frac{R_{fp}+R_{fm}}{R_G} = 5012 = 74 \\text{ dB} \\\\[0.5em]\n",
    "&& \\text{CMMR}_2 &=& \\frac{A_{vd2}+1}{4 \\epsilon} = \\frac{2.5}{4(0.05)}\n",
    "= 12.5 = 21.94 \\text{ dB} \\\\[0.5em]\n",
    "&& \\text{CMMR}_1+\\text{CMMR}_2 &=& 95.96 \\text{ dB}\n",
    "\\end{eqnarray}$\n",
    "\n",
    "<hr>"
   ]
  },
  {
   "cell_type": "code",
   "execution_count": null,
   "metadata": {},
   "outputs": [],
   "source": []
  },
  {
   "cell_type": "code",
   "execution_count": null,
   "metadata": {},
   "outputs": [],
   "source": []
  }
 ],
 "metadata": {
  "kernelspec": {
   "display_name": "Python 3",
   "language": "python",
   "name": "python3"
  },
  "language_info": {
   "codemirror_mode": {
    "name": "ipython",
    "version": 3
   },
   "file_extension": ".py",
   "mimetype": "text/x-python",
   "name": "python",
   "nbconvert_exporter": "python",
   "pygments_lexer": "ipython3",
   "version": "3.7.4"
  }
 },
 "nbformat": 4,
 "nbformat_minor": 2
}
