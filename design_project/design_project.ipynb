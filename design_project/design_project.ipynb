{
 "cells": [
  {
   "cell_type": "markdown",
   "metadata": {},
   "source": [
    "# Strain-Gage Low Noise Signal Conditioning\n",
    "\n",
    "<img src=\"images/architecture.png\" width=\"600\">"
   ]
  },
  {
   "cell_type": "markdown",
   "metadata": {},
   "source": [
    "<img src=\"images/Phase1Specs.png\" width=\"600\">"
   ]
  },
  {
   "cell_type": "markdown",
   "metadata": {},
   "source": [
    "*Reference:* <br>\n",
    "http://www.resistorguide.com/resistor-values/ <br>\n",
    "https://www.ni.com/en-us/innovations/white-papers/07/measuring-strain-with-strain-gages.html <br>\n",
    "https://www.analog.com/media/en/training-seminars/tutorials/MT-049.pdf <br>\n",
    "https://learning.oreilly.com/library/view/operational-amplifier-noise/9780750685252/xhtml/CHP009.html#CHP009tit1 <br>\n",
    "https://www.analog.com/en/products/amplifiers/operational-amplifiers.html <br>\n",
    "https://www.analog.com/en/products/amplifiers/adc-drivers.html <br>\n",
    "https://www.analog.com/en/parametricsearch/11091#/p2839=2|5&p4502=1M|4G&sort=4502,asc"
   ]
  },
  {
   "cell_type": "markdown",
   "metadata": {},
   "source": [
    "\n",
    "\n",
    "#### Step 3 : Be sure to include the noise from the strain gage resistance.You should model the strain gage as a Thevenin equivalent circuit."
   ]
  },
  {
   "cell_type": "markdown",
   "metadata": {},
   "source": [
    "<img src=\"images/StrainGage.png\" width=\"500\">"
   ]
  },
  {
   "cell_type": "markdown",
   "metadata": {},
   "source": [
    "$T=25C = 298 K$ <br>\n",
    "$k = 1.381 \\cdot 10^{−23}$ <br>\n",
    "$kT = 4.1145 \\cdot 10^{-21}$ <br>\n",
    "$R = R_1 = R_2 = R_3 = R_4 = 1000 \\Omega $\n",
    "\n",
    "$\\begin{eqnarray}\n",
    "&& R_{eq} &=& (R_1 \\parallel R_2) + (R_3 \\parallel (R_4 + \\Delta R))  \\\\[0.5em]\n",
    "&& R_{eq}\\Bigg|_{\\Delta R=0} &=& (\\frac{R}{2}) + (\\frac{R}{2}) = R \\\\[0.5em]\n",
    "&& k &=& 1.381 \\cdot 10^{−23} \\text{Joule/ Kelvin} \\\\[0.5em]\n",
    "&& R_{eq} &=& \\frac{R}{2} = 500 \\Omega \\\\[0.5em]\n",
    "&& e_n^2 &=& 4kTR_{eq}\\Bigg|_{T=25C} \\\\[0.5em]\n",
    "&& &=& 4 \\cdot (4.1145e-21) \\cdot (1000) \\\\[0.5em]\n",
    "&& &=& 1.6458 \\cdot 10^{-17} \\frac{V^2}{\\text{Hz}} \\\\[0.5em]\n",
    "\\end{eqnarray}$\n",
    "\n",
    "<hr>"
   ]
  },
  {
   "cell_type": "markdown",
   "metadata": {},
   "source": [
    "$\\begin{eqnarray}\n",
    "&& R_{eq} &=& \\frac{R}{2} = 500 \\Omega \\\\[0.5em]\n",
    "&& e_{n_R}^2 &=& 4kTR_{eq}\\Bigg|_{T=25C} \\\\[0.5em]\n",
    "&& e_{n,\\text{gage}}^2 &=& (i_{nn} R_{eq})^2 + e_{n_R}^2 + \n",
    "(i_{np} R_{eq})^2 + e_{n_R}^2 \\\\[0.5em]\n",
    "&& e_{n,\\text{gage}}^2 &=& 2(i_{n} R_{eq})^2 + 2e_{n_R}^2 \n",
    "\\frac{V^2}{\\text{Hz}}\\\\[0.5em]\n",
    "\\end{eqnarray}$"
   ]
  },
  {
   "cell_type": "markdown",
   "metadata": {},
   "source": [
    "#### Step 1 : Determine the input-referred voltage noise density required to meet the specifications."
   ]
  },
  {
   "cell_type": "markdown",
   "metadata": {},
   "source": [
    "$\\begin{eqnarray}\n",
    "&& \\text{SNR} &=& 20\\log\\frac{v_{s(rms)}}{v_{n(rms)}} \\rightarrow\n",
    "20\\log\\frac{7.07\\text{mV}}{v_{n(rms)}} \\geq 77\\text{dB} \\\\[0.5em]\n",
    "&& v_{n,in(rms)} &\\leq& 1 \\mu V \\\\[0.5em]\n",
    "\\end{eqnarray}$\n",
    "\n",
    "<hr>"
   ]
  },
  {
   "cell_type": "markdown",
   "metadata": {},
   "source": [
    "$\\begin{eqnarray}\n",
    "&& v_{n,in(\\text{rms})} &=& \\sqrt{v_{n,in}^2 \\cdot 5\\text{KHz}} \\leq 1 \\mu V \\\\[0.5em]\n",
    "&& && v_{n,in} \\leq \\frac{1 \\mu V}{\\sqrt{5\\text{KHz}}} \n",
    "\\approx 1.41\\cdot 10^{-8} \\frac{V}{\\sqrt{\\text{Hz}}}\n",
    "\\end{eqnarray}$"
   ]
  },
  {
   "cell_type": "markdown",
   "metadata": {},
   "source": [
    "#### Step 2 : Perform noise analysis of the instrumentation amplifier and determine the relative impact of all noise sources on the input-referred noise."
   ]
  },
  {
   "cell_type": "markdown",
   "metadata": {},
   "source": [
    "**Difference Amp Inverting**\n",
    "\n",
    "$\\begin{eqnarray}\n",
    "&& e_{n,out}^2 &=& (\\frac{R_2}{R_1})^2 4kTR_1 + 4kTR_2 + (1+\\frac{R_2}{R_1})^2 e_n^2 + (i_n R_2)^2 \\\\[0.5em]\n",
    "&& e_{n,out}^2 &=& 4kTR_1 + 4kTR_2 + 4 e_n^2 + (i_n R_2)^2 \\\\[0.5em]\n",
    "&& \\\\[0.5em]\n",
    "&& e_{n,out} &=& \\sqrt{(\\frac{R_2}{R_1})^2 4kTR_1 + 4kTR_2 + \n",
    "(1+\\frac{R_2}{R_1})^2 e_n^2 + (i_n R_2)^2} \\\\[0.5em]\n",
    "\\end{eqnarray}$"
   ]
  },
  {
   "cell_type": "markdown",
   "metadata": {},
   "source": [
    "**Gain Stage**\n",
    "\n",
    "$\\begin{eqnarray}\n",
    "&& e_{n,out}^2 &=& 2[(\\frac{R_f}{R_G})^2 4kTR_G + 4kTR_f ] \\\\[0.5em]\n",
    "&& e_{n,out}^2 &=& 2[(49.9)^2 4kTR_G + 4kTR_f] \\\\[0.5em]\n",
    "\\end{eqnarray}$"
   ]
  },
  {
   "cell_type": "markdown",
   "metadata": {},
   "source": [
    "**Difference Amp Non-\n",
    "Inverting**\n",
    "\n",
    "$\\begin{eqnarray}\n",
    "&& e_{n,out}^2 &=& (1+\\frac{R_2}{R_1})^2 4kTR_2 + \n",
    "(1+\\frac{R_2}{R_1})^2 (\\frac{R_2}{R_1+R_2})^2 4kTR_1  \\\\[0.5em]\n",
    "&& e_{n,out}^2 &=& (4) 4kTR_2 + 4kTR_1  \\\\[0.5em]\n",
    "\\end{eqnarray}$"
   ]
  },
  {
   "cell_type": "markdown",
   "metadata": {},
   "source": [
    "#### Step X: Use the first stage to realize the required gain. This will minimize the impact of U3’s noise, as well as that of R1and R2."
   ]
  },
  {
   "cell_type": "markdown",
   "metadata": {},
   "source": [
    "$\\frac{2V_{p-p}}{20mV_{p-p}} = 100 \\frac{V}{V} = 40$dB of gain. <br>\n",
    "<br>\n",
    "Choose E192 series resistors with 0.1%. I wanted $R_F$ to less than 50K."
   ]
  },
  {
   "cell_type": "markdown",
   "metadata": {},
   "source": [
    "$\\begin{eqnarray} \n",
    "&& \\frac{V_{out_1}}{V_{in}} &=& 1+2\\frac{R_F}{R_G} = 100 \\\\[0.5em]\n",
    "&& && \\frac{R_F}{R_G} = 49.5 \\\\[0.5em]\n",
    "&& && R_G = 1000, R_F = 49900 \\\\[0.5em]\n",
    "\\\\[0.5em]\n",
    "&& \\frac{V_{out_2}}{V_{out_1}} &=& \\frac{R_2}{R_1} = 1 = 0 \\text{ dB} \\\\[0.5em]\n",
    "&& && R_1 = 100K, R_2 = 100K \\\\[0.5em]\n",
    "\\\\[0.5em]\n",
    "&& \\frac{V_{out_1}}{V_{in}} \\frac{V_{out_2}}{V_{out_1}} &=& \n",
    "(1+2\\frac{R_F}{R_G}) \\cdot (\\frac{R_2}{R_1}) \\\\[0.5em]\n",
    "&& &=& (100.8) \\cdot (1) \\\\[0.5em]\n",
    "&& &=& 40.07 \\text{ dB} \\\\[0.5em]\n",
    "\\end{eqnarray}$"
   ]
  },
  {
   "cell_type": "markdown",
   "metadata": {},
   "source": [
    "#### Step X: Select  component  values  that  allow  you  to  achieve  the  noise  target,  with  resistor tolerances that make it possible to meet the CMRR specification."
   ]
  },
  {
   "cell_type": "markdown",
   "metadata": {},
   "source": [
    "$\\begin{eqnarray}\n",
    "&& \\text{CMMR}_1 &=& 1+\\frac{R_{fp}+R_{fm}}{R_G} = 40.07 \\text{ dB} \\\\[0.5em]\n",
    "&& \\text{CMMR}_2 &=& \\frac{A_{vd2}+1}{4 \\epsilon} = \\frac{2}{4(0.001)}\n",
    "= 53.98 \\text{ dB} \\\\[0.5em]\n",
    "&& \\text{CMMR}_1+\\text{CMMR}_2 &=& 94.05 \\text{ dB}\n",
    "\\end{eqnarray}$\n",
    "\n",
    "<hr>"
   ]
  },
  {
   "cell_type": "markdown",
   "metadata": {},
   "source": [
    "<img src=\"images/ADA4528.png\" width=\"800\">"
   ]
  },
  {
   "cell_type": "markdown",
   "metadata": {},
   "source": [
    "\n",
    "|   |   |   |\n",
    "|----------:|------|----|\n",
    "|$V(vp-)$   | 2.5  | V  |\n",
    "|$V(vm-)$   | 2.5  | V  |\n",
    "|$V(vop)$   | 2.5  | V  |\n",
    "|$V(vom)$   | 2.5  | V  |\n",
    "|$V(in-)$   | 2.49999  | V  |\n",
    "|$V(in+)$   | 2.49999  | V  |\n",
    "|$V(vout)$  | 2.49998  | V  |\n",
    "|$I(Rf_0)$   | -8.51778e-011  | A  |\n",
    "|$I(Rf_1)$   | -8.51778e-011  | A  |\n",
    "|$I(Rg)$     | 1.06581e-017   | A  |\n",
    "|$I(R1_0)$   | -1.87986e-011  | A  |\n",
    "|$I(R1_1)$   | 2.34496e-011   | A  |\n",
    "|$I(R2_0)$   | -1.03976e-010  | A  |\n",
    "|$I(R2_1)$   | 6.17282e-011   | A  |\n"
   ]
  },
  {
   "cell_type": "markdown",
   "metadata": {},
   "source": [
    "|   |   |   |\n",
    "|----------:|------|----|\n",
    "|$Req$   | 500   | $\\Omega$  |\n",
    "|$R_G$   | 10K   | $\\Omega$  |\n",
    "|$R_F$   | 49.9K | $\\Omega$  |\n",
    "|$R_1$   | 100K  | $\\Omega$  |\n",
    "|$R_2$   | 100K  | $\\Omega$  |"
   ]
  },
  {
   "cell_type": "code",
   "execution_count": 1,
   "metadata": {},
   "outputs": [],
   "source": [
    "# Imports\n",
    "import os\n",
    "import sys\n",
    "import cmath\n",
    "import math\n",
    "import matplotlib.pyplot as plt\n",
    "import matplotlib\n",
    "import numpy as np\n",
    "import pandas as pd\n",
    "import ltspice\n",
    "import sympy as sp\n",
    "from scipy import signal\n",
    "%matplotlib inline\n",
    "from IPython.core.interactiveshell import InteractiveShell\n",
    "InteractiveShell.ast_node_interactivity = \"all\""
   ]
  },
  {
   "cell_type": "code",
   "execution_count": 2,
   "metadata": {},
   "outputs": [],
   "source": [
    "def read_ltspice(file_name,ftype='trans',units='db'):\n",
    "    cols = []\n",
    "    arrs = []\n",
    "    with open(file_name, 'r',encoding='utf-8') as data:\n",
    "        for i,line in enumerate(data):\n",
    "            if i==0:\n",
    "                cols = line.split()\n",
    "                arrs = [[] for _ in cols]\n",
    "                continue\n",
    "            parts = line.split()\n",
    "            for j,part in enumerate(parts):\n",
    "                arrs[j].append(part)\n",
    "    df = pd.DataFrame(arrs,dtype='float64')\n",
    "    df = df.T\n",
    "    df.columns = cols\n",
    "    if ftype=='trans':\n",
    "        return df\n",
    "    elif ftype=='ac':\n",
    "        if units=='db':\n",
    "            for col in cols:\n",
    "                if df[col].str.contains(',').all():\n",
    "                    df[f'Mag_{col}'] = df[col].apply(lambda x: x.split(',')[0])\n",
    "                    df[f'Mag_{col}'] = df[f'Mag_{col}'].apply(lambda x: x[1:-2])\n",
    "                    df[f'Mag_{col}'] = df[f'Mag_{col}'].astype('float64')\n",
    "                    df[f'Phase_{col}'] = df[col].apply(lambda x: x.split(',')[1])\n",
    "                    df[f'Phase_{col}'] = df[f'Phase_{col}'].apply(lambda x: x[0:-2])\n",
    "                    df[f'Phase_{col}'] = df[f'Phase_{col}'].astype('float64')\n",
    "        if units=='cartesian':\n",
    "            for col in cols:\n",
    "                if df[col].str.contains(',').all():\n",
    "                    df[f'Re_{col}'] = df[col].apply(lambda x: x.split(',')[0])\n",
    "                    df[f'Re_{col}'] = df[f'Re_{col}'].astype('float64')\n",
    "                    df[f'Im_{col}'] = df[col].apply(lambda x: x.split(',')[1])\n",
    "                    df[f'Im_{col}'] = df[f'Im_{col}'].astype('float64')\n",
    "        df['Freq.'] = df['Freq.'].astype('float64')\n",
    "        return df\n",
    "    else:\n",
    "        print('invalid ftype')"
   ]
  },
  {
   "cell_type": "code",
   "execution_count": 3,
   "metadata": {},
   "outputs": [],
   "source": [
    "filepath = 'data/ADA4528_noise.txt'\n",
    "df = pd.read_csv(filepath)\n",
    "#df = df[df['frequency']<5000]\n",
    "mag = df['V(onoise)']\n",
    "freq = df['frequency']"
   ]
  },
  {
   "cell_type": "code",
   "execution_count": 4,
   "metadata": {},
   "outputs": [
    {
     "name": "stdout",
     "output_type": "stream",
     "text": [
      "1KHz magnitude: 1.0329[e-8 V/sqrt(Hz)]\n"
     ]
    },
    {
     "data": {
      "text/plain": [
       "600"
      ]
     },
     "execution_count": 4,
     "metadata": {},
     "output_type": "execute_result"
    }
   ],
   "source": [
    "#Find 1KHz Magnitude\n",
    "x0 = np.where(freq<=1000)[0][-1]\n",
    "mag1K = mag.iloc[x0]\n",
    "label = \"{:.4f}\".format(mag1K/100*1e8)\n",
    "print(f\"1KHz magnitude: {label}[e-8 V/sqrt(Hz)]\")\n",
    "x0"
   ]
  },
  {
   "cell_type": "code",
   "execution_count": 5,
   "metadata": {},
   "outputs": [
    {
     "data": {
      "image/png": "[encoded data removed]",
      "text/plain": [
       "<Figure size 576x576 with 1 Axes>"
      ]
     },
     "metadata": {
      "needs_background": "light"
     },
     "output_type": "display_data"
    }
   ],
   "source": [
    "fig, ax = plt.subplots(1,figsize=(8,8))\n",
    "#ax.semilogx(freq, mag, label='Output Noise')\n",
    "ax.semilogx(freq, mag/100, label='Onoise/100')\n",
    "ax.scatter(freq[x0],mag[x0]/100, label=f'1kHz: {label} [e-8 V/sqrt(Hz)]')\n",
    "ax.semilogx(freq, 1.41e-8*np.ones(len(freq)), label='Target')\n",
    "#ax.set_ylim(0,5e3)\n",
    "#ax.set_ylim(0.9e-8,1.45e-8)\n",
    "ax.ticklabel_format(style='sci', axis='y', scilimits=(-8,-8))\n",
    "ax.set_title('Instrumentation Amp Voltage Noise [V/$\\sqrt{Hz}$]')\n",
    "ax.set_ylabel('Voltage Noise [V/$\\sqrt{Hz}$]')\n",
    "ax.set_xlabel('Frequency [Hz]')\n",
    "ax.grid(True)\n",
    "ax.legend()\n",
    "plt.show();"
   ]
  },
  {
   "cell_type": "code",
   "execution_count": 6,
   "metadata": {},
   "outputs": [],
   "source": [
    "filepath = 'data/ADA4528_ac.txt'\n",
    "df = read_ltspice(filepath,'ac','db')\n",
    "freq = df['Freq.']\n",
    "mag = df['Mag_V(vout)/(V(vp)-V(vm))']\n",
    "ang = df['Phase_V(vout)/(V(vp)-V(vm))']"
   ]
  },
  {
   "cell_type": "code",
   "execution_count": 7,
   "metadata": {},
   "outputs": [
    {
     "name": "stdout",
     "output_type": "stream",
     "text": [
      "5KHz magnitude: 40.0060[V/sqrt(Hz)]\n"
     ]
    },
    {
     "data": {
      "text/plain": [
       "669"
      ]
     },
     "execution_count": 7,
     "metadata": {},
     "output_type": "execute_result"
    }
   ],
   "source": [
    "#Find 1KHz Magnitude\n",
    "x0 = np.where(freq<=5000)[0][-1]\n",
    "mag5K = mag.iloc[x0]\n",
    "label = \"{:.4f}\".format(mag5K)\n",
    "print(f\"5KHz magnitude: {label}[V/sqrt(Hz)]\")\n",
    "x0"
   ]
  },
  {
   "cell_type": "code",
   "execution_count": 8,
   "metadata": {
    "scrolled": false
   },
   "outputs": [
    {
     "data": {
      "image/png": "[encoded data removed]",
      "text/plain": [
       "<Figure size 720x720 with 2 Axes>"
      ]
     },
     "metadata": {
      "needs_background": "light"
     },
     "output_type": "display_data"
    }
   ],
   "source": [
    "fig, axs = plt.subplots(2,figsize=(10,10))\n",
    "axs[0].set_title('Front-End Frequency Response')\n",
    "axs[0].semilogx(freq, mag, label='Vid')\n",
    "axs[0].scatter(freq[x0],mag[x0], label=f'5kHz: {label} [dB]')\n",
    "axs[0].set_ylabel('Magnitude [dB]')\n",
    "axs[0].grid()\n",
    "axs[0].legend()\n",
    "axs[1].semilogx(freq, ang, label='')\n",
    "axs[1].set_xlabel('Frequency [Hz]')\n",
    "axs[1].set_ylabel('Phase [deg]')\n",
    "axs[1].grid()\n",
    "#axs[1].legend()\n",
    "plt.show();"
   ]
  },
  {
   "cell_type": "code",
   "execution_count": null,
   "metadata": {},
   "outputs": [],
   "source": []
  }
 ],
 "metadata": {
  "kernelspec": {
   "display_name": "Python 3",
   "language": "python",
   "name": "python3"
  },
  "language_info": {
   "codemirror_mode": {
    "name": "ipython",
    "version": 3
   },
   "file_extension": ".py",
   "mimetype": "text/x-python",
   "name": "python",
   "nbconvert_exporter": "python",
   "pygments_lexer": "ipython3",
   "version": "3.7.4"
  }
 },
 "nbformat": 4,
 "nbformat_minor": 2
}
