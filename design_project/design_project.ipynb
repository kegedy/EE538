{
 "cells": [
  {
   "cell_type": "code",
   "execution_count": 9,
   "metadata": {},
   "outputs": [],
   "source": [
    "# Imports\n",
    "import os\n",
    "import sys\n",
    "import cmath\n",
    "import math\n",
    "import matplotlib.pyplot as plt\n",
    "import matplotlib\n",
    "import numpy as np\n",
    "import pandas as pd\n",
    "import ltspice\n",
    "import sympy as sp\n",
    "from sympy.utilities.lambdify import lambdify\n",
    "from scipy import signal\n",
    "%matplotlib inline\n",
    "from IPython.core.interactiveshell import InteractiveShell\n",
    "InteractiveShell.ast_node_interactivity = \"all\""
   ]
  },
  {
   "cell_type": "markdown",
   "metadata": {},
   "source": [
    "# Strain-Gage Low Noise Signal Conditioning\n",
    "\n",
    "<img src=\"images/architecture.png\" width=\"600\">"
   ]
  },
  {
   "cell_type": "markdown",
   "metadata": {},
   "source": [
    "<img src=\"images/Phase1Specs.png\" width=\"600\">"
   ]
  },
  {
   "cell_type": "markdown",
   "metadata": {},
   "source": [
    "*Reference:* <br>\n",
    "http://www.resistorguide.com/resistor-values/ <br>\n",
    "https://www.ni.com/en-us/innovations/white-papers/07/measuring-strain-with-strain-gages.html <br>\n",
    "https://www.analog.com/media/en/training-seminars/tutorials/MT-049.pdf <br>\n",
    "https://learning.oreilly.com/library/view/operational-amplifier-noise/9780750685252/xhtml/CHP009.html#CHP009tit1 <br>\n",
    "https://www.analog.com/en/products/amplifiers/operational-amplifiers.html <br>\n",
    "https://www.analog.com/en/products/amplifiers/adc-drivers.html <br>\n",
    "https://www.analog.com/en/parametricsearch/11091#/p2839=2|5&p4502=1M|4G&sort=4502,asc"
   ]
  },
  {
   "cell_type": "markdown",
   "metadata": {},
   "source": [
    "\n",
    "\n",
    "#### Step 3 : Be sure to include the noise from the strain gage resistance.You should model the strain gage as a Thevenin equivalent circuit."
   ]
  },
  {
   "cell_type": "markdown",
   "metadata": {},
   "source": [
    "<img src=\"images/StrainGage.png\" width=\"500\">"
   ]
  },
  {
   "cell_type": "markdown",
   "metadata": {},
   "source": [
    "$T=25C = 298 K$ <br>\n",
    "$k = 1.381 \\cdot 10^{−23}$ <br>\n",
    "$kT = 4.1145 \\cdot 10^{-21}$ <br>\n",
    "$R = R_1 = R_2 = R_3 = R_4 = 1000 \\Omega $\n",
    "\n",
    "$\\begin{eqnarray}\n",
    "&& R_{eq} &=& (R_1 \\parallel R_2) + (R_3 \\parallel (R_4 + \\Delta R))  \\\\[0.5em]\n",
    "&& R_{eq}\\Bigg|_{\\Delta R=0} &=& (\\frac{R}{2}) + (\\frac{R}{2}) = R \\\\[0.5em]\n",
    "&& k &=& 1.381 \\cdot 10^{−23} \\text{Joule/ Kelvin} \\\\[0.5em]\n",
    "&& R_{eq} &=& \\frac{R}{2} = 500 \\Omega \\\\[0.5em]\n",
    "&& e_n^2 &=& 4kTR_{eq}\\Bigg|_{T=25C} \\\\[0.5em]\n",
    "&& &=& 4 \\cdot (4.1145e-21) \\cdot (1000) \\\\[0.5em]\n",
    "&& &=& 1.6458 \\cdot 10^{-17} \\frac{V^2}{\\text{Hz}} \\\\[0.5em]\n",
    "\\end{eqnarray}$\n",
    "\n",
    "<hr>"
   ]
  },
  {
   "cell_type": "markdown",
   "metadata": {},
   "source": [
    "$\\begin{eqnarray}\n",
    "&& R_{eq} &=& \\frac{R}{2} = 500 \\Omega \\\\[0.5em]\n",
    "&& e_{n_R}^2 &=& 4kTR_{eq}\\Bigg|_{T=25C} \\\\[0.5em]\n",
    "&& e_{n,\\text{gage}}^2 &=& (i_{nn} R_{eq})^2 + e_{n_R}^2 + \n",
    "(i_{np} R_{eq})^2 + e_{n_R}^2 \\\\[0.5em]\n",
    "&& e_{n,\\text{gage}}^2 &=& 2(i_{n} R_{eq})^2 + 2e_{n_R}^2 \n",
    "\\frac{V^2}{\\text{Hz}}\\\\[0.5em]\n",
    "\\end{eqnarray}$"
   ]
  },
  {
   "cell_type": "markdown",
   "metadata": {},
   "source": [
    "#### Step 1 : Determine the input-referred voltage noise density required to meet the specifications."
   ]
  },
  {
   "cell_type": "markdown",
   "metadata": {},
   "source": [
    "$\\begin{eqnarray}\n",
    "&& \\text{SNR} &=& 20\\log\\frac{v_{s(rms)}}{v_{n(rms)}} \\rightarrow\n",
    "20\\log\\frac{7.07\\text{mV}}{v_{n(rms)}} \\geq 77\\text{dB} \\\\[0.5em]\n",
    "&& v_{n,in(rms)} &\\leq& 1 \\mu V \\\\[0.5em]\n",
    "\\end{eqnarray}$\n",
    "\n",
    "<hr>"
   ]
  },
  {
   "cell_type": "markdown",
   "metadata": {},
   "source": [
    "$\\begin{eqnarray}\n",
    "&& v_{n,in(\\text{rms})} &=& \\sqrt{v_{n,in}^2 \\cdot 5\\text{KHz}} \\leq 1 \\mu V \\\\[0.5em]\n",
    "&& && v_{n,in} \\leq \\frac{1 \\mu V}{\\sqrt{5\\text{KHz}}} \n",
    "\\approx 1.41\\cdot 10^{-8} \\frac{V}{\\sqrt{\\text{Hz}}}\n",
    "\\end{eqnarray}$"
   ]
  },
  {
   "cell_type": "markdown",
   "metadata": {},
   "source": [
    "#### Step 2 : Perform noise analysis of the instrumentation amplifier and determine the relative impact of all noise sources on the input-referred noise."
   ]
  },
  {
   "cell_type": "markdown",
   "metadata": {},
   "source": [
    "**Difference Amp Inverting**\n",
    "\n",
    "$\\begin{eqnarray}\n",
    "&& e_{n,out}^2 &=& (\\frac{R_2}{R_1})^2 4kTR_1 + 4kTR_2 + (1+\\frac{R_2}{R_1})^2 e_n^2 + (i_n R_2)^2 \\\\[0.5em]\n",
    "&& e_{n,out}^2 &=& 4kTR_1 + 4kTR_2 + 4 e_n^2 + (i_n R_2)^2 \\\\[0.5em]\n",
    "&& \\\\[0.5em]\n",
    "&& e_{n,out} &=& \\sqrt{(\\frac{R_2}{R_1})^2 4kTR_1 + 4kTR_2 + \n",
    "(1+\\frac{R_2}{R_1})^2 e_n^2 + (i_n R_2)^2} \\\\[0.5em]\n",
    "\\end{eqnarray}$"
   ]
  },
  {
   "cell_type": "markdown",
   "metadata": {},
   "source": [
    "**Gain Stage**\n",
    "\n",
    "$\\begin{eqnarray}\n",
    "&& e_{n,out}^2 &=& 2[(\\frac{R_f}{R_G})^2 4kTR_G + 4kTR_f ] \\\\[0.5em]\n",
    "&& e_{n,out}^2 &=& 2[(49.9)^2 4kTR_G + 4kTR_f] \\\\[0.5em]\n",
    "\\end{eqnarray}$"
   ]
  },
  {
   "cell_type": "markdown",
   "metadata": {},
   "source": [
    "**Difference Amp Non-\n",
    "Inverting**\n",
    "\n",
    "$\\begin{eqnarray}\n",
    "&& e_{n,out}^2 &=& (1+\\frac{R_2}{R_1})^2 4kTR_2 + \n",
    "(1+\\frac{R_2}{R_1})^2 (\\frac{R_2}{R_1+R_2})^2 4kTR_1  \\\\[0.5em]\n",
    "&& e_{n,out}^2 &=& (4) 4kTR_2 + 4kTR_1  \\\\[0.5em]\n",
    "\\end{eqnarray}$"
   ]
  },
  {
   "cell_type": "markdown",
   "metadata": {},
   "source": [
    "#### Step X: Use the first stage to realize the required gain. This will minimize the impact of U3’s noise, as well as that of R1and R2."
   ]
  },
  {
   "cell_type": "markdown",
   "metadata": {},
   "source": [
    "$\\frac{2V_{p-p}}{20mV_{p-p}} = 100 \\frac{V}{V} = 40$dB of gain. <br>\n",
    "<br>\n",
    "Choose E192 series resistors with 0.1%. I wanted $R_F$ to less than 50K."
   ]
  },
  {
   "cell_type": "markdown",
   "metadata": {},
   "source": [
    "$\\begin{eqnarray} \n",
    "&& \\frac{V_{out_1}}{V_{in}} &=& 1+2\\frac{R_F}{R_G} = 100 \\\\[0.5em]\n",
    "&& && \\frac{R_F}{R_G} = 49.5 \\\\[0.5em]\n",
    "&& && R_G = 1000, R_F = 49900 \\\\[0.5em]\n",
    "\\\\[0.5em]\n",
    "&& \\frac{V_{out_2}}{V_{out_1}} &=& \\frac{R_2}{R_1} = 1 = 0 \\text{ dB} \\\\[0.5em]\n",
    "&& && R_1 = 100K, R_2 = 100K \\\\[0.5em]\n",
    "\\\\[0.5em]\n",
    "&& \\frac{V_{out_1}}{V_{in}} \\frac{V_{out_2}}{V_{out_1}} &=& \n",
    "(1+2\\frac{R_F}{R_G}) \\cdot (\\frac{R_2}{R_1}) \\\\[0.5em]\n",
    "&& &=& (100.8) \\cdot (1) \\\\[0.5em]\n",
    "&& &=& 40.07 \\text{ dB} \\\\[0.5em]\n",
    "\\end{eqnarray}$"
   ]
  },
  {
   "cell_type": "markdown",
   "metadata": {},
   "source": [
    "#### Step X: Select  component  values  that  allow  you  to  achieve  the  noise  target,  with  resistor tolerances that make it possible to meet the CMRR specification."
   ]
  },
  {
   "cell_type": "markdown",
   "metadata": {},
   "source": [
    "$\\begin{eqnarray}\n",
    "&& \\text{CMMR}_1 &=& 1+\\frac{R_{fp}+R_{fm}}{R_G} = 40.07 \\text{ dB} \\\\[0.5em]\n",
    "&& \\text{CMMR}_2 &=& \\frac{A_{vd2}+1}{4 \\epsilon} = \\frac{2}{4(0.001)}\n",
    "= 53.98 \\text{ dB} \\\\[0.5em]\n",
    "&& \\text{CMMR}_1+\\text{CMMR}_2 &=& 94.05 \\text{ dB}\n",
    "\\end{eqnarray}$\n",
    "\n",
    "<hr>"
   ]
  },
  {
   "cell_type": "markdown",
   "metadata": {},
   "source": [
    "<img src=\"images/ADA4528.png\" width=\"800\">"
   ]
  },
  {
   "cell_type": "markdown",
   "metadata": {},
   "source": [
    "\n",
    "|   |   |   |\n",
    "|----------:|------|----|\n",
    "|$V(vp-)$   | 2.5  | V  |\n",
    "|$V(vm-)$   | 2.5  | V  |\n",
    "|$V(vop)$   | 2.5  | V  |\n",
    "|$V(vom)$   | 2.5  | V  |\n",
    "|$V(in-)$   | 2.49999  | V  |\n",
    "|$V(in+)$   | 2.49999  | V  |\n",
    "|$V(vout)$  | 2.49998  | V  |\n",
    "|$I(Rf_0)$   | -8.51778e-011  | A  |\n",
    "|$I(Rf_1)$   | -8.51778e-011  | A  |\n",
    "|$I(Rg)$     | 1.06581e-017   | A  |\n",
    "|$I(R1_0)$   | -1.87986e-011  | A  |\n",
    "|$I(R1_1)$   | 2.34496e-011   | A  |\n",
    "|$I(R2_0)$   | -1.03976e-010  | A  |\n",
    "|$I(R2_1)$   | 6.17282e-011   | A  |\n"
   ]
  },
  {
   "cell_type": "markdown",
   "metadata": {},
   "source": [
    "|   |   |   |\n",
    "|----------:|------|----|\n",
    "|$Req$   | 500   | $\\Omega$  |\n",
    "|$R_G$   | 1K   | $\\Omega$  |\n",
    "|$R_F$   | 49.9K | $\\Omega$  |\n",
    "|$R_1$   | 100K  | $\\Omega$  |\n",
    "|$R_2$   | 100K  | $\\Omega$  |"
   ]
  },
  {
   "cell_type": "code",
   "execution_count": 2,
   "metadata": {},
   "outputs": [],
   "source": [
    "def read_ltspice(file_name,ftype='trans',units='db'):\n",
    "    cols = []\n",
    "    arrs = []\n",
    "    with open(file_name, 'r',encoding='utf-8') as data:\n",
    "        for i,line in enumerate(data):\n",
    "            if i==0:\n",
    "                cols = line.split()\n",
    "                arrs = [[] for _ in cols]\n",
    "                continue\n",
    "            parts = line.split()\n",
    "            for j,part in enumerate(parts):\n",
    "                arrs[j].append(part)\n",
    "    df = pd.DataFrame(arrs,dtype='float64')\n",
    "    df = df.T\n",
    "    df.columns = cols\n",
    "    if ftype=='trans':\n",
    "        return df\n",
    "    elif ftype=='ac':\n",
    "        if units=='db':\n",
    "            for col in cols:\n",
    "                if df[col].str.contains(',').all():\n",
    "                    df[f'Mag_{col}'] = df[col].apply(lambda x: x.split(',')[0])\n",
    "                    df[f'Mag_{col}'] = df[f'Mag_{col}'].apply(lambda x: x[1:-2])\n",
    "                    df[f'Mag_{col}'] = df[f'Mag_{col}'].astype('float64')\n",
    "                    df[f'Phase_{col}'] = df[col].apply(lambda x: x.split(',')[1])\n",
    "                    df[f'Phase_{col}'] = df[f'Phase_{col}'].apply(lambda x: x[0:-2])\n",
    "                    df[f'Phase_{col}'] = df[f'Phase_{col}'].astype('float64')\n",
    "        if units=='cartesian':\n",
    "            for col in cols:\n",
    "                if df[col].str.contains(',').all():\n",
    "                    df[f'Re_{col}'] = df[col].apply(lambda x: x.split(',')[0])\n",
    "                    df[f'Re_{col}'] = df[f'Re_{col}'].astype('float64')\n",
    "                    df[f'Im_{col}'] = df[col].apply(lambda x: x.split(',')[1])\n",
    "                    df[f'Im_{col}'] = df[f'Im_{col}'].astype('float64')\n",
    "        df['Freq.'] = df['Freq.'].astype('float64')\n",
    "        return df\n",
    "    else:\n",
    "        print('invalid ftype')"
   ]
  },
  {
   "cell_type": "code",
   "execution_count": 3,
   "metadata": {},
   "outputs": [],
   "source": [
    "filepath = 'data/ADA4528_noise.txt'\n",
    "df = pd.read_csv(filepath)\n",
    "#df = df[df['frequency']<5000]\n",
    "mag = df['V(onoise)']\n",
    "freq = df['frequency']"
   ]
  },
  {
   "cell_type": "code",
   "execution_count": 4,
   "metadata": {},
   "outputs": [
    {
     "name": "stdout",
     "output_type": "stream",
     "text": [
      "1KHz magnitude: 1.0329[e-8 V/sqrt(Hz)]\n"
     ]
    },
    {
     "data": {
      "text/plain": [
       "600"
      ]
     },
     "execution_count": 4,
     "metadata": {},
     "output_type": "execute_result"
    }
   ],
   "source": [
    "#Find 1KHz Magnitude\n",
    "x0 = np.where(freq<=1000)[0][-1]\n",
    "mag1K = mag.iloc[x0]\n",
    "label = \"{:.4f}\".format(mag1K/100*1e8)\n",
    "print(f\"1KHz magnitude: {label}[e-8 V/sqrt(Hz)]\")\n",
    "x0"
   ]
  },
  {
   "cell_type": "code",
   "execution_count": 5,
   "metadata": {},
   "outputs": [
    {
     "data": {
      "image/png": "[encoded data removed]",
      "text/plain": [
       "<Figure size 576x576 with 1 Axes>"
      ]
     },
     "metadata": {
      "needs_background": "light"
     },
     "output_type": "display_data"
    }
   ],
   "source": [
    "fig, ax = plt.subplots(1,figsize=(8,8))\n",
    "#ax.semilogx(freq, mag, label='Output Noise')\n",
    "ax.semilogx(freq, mag/100, label='Onoise/100')\n",
    "ax.scatter(freq[x0],mag[x0]/100, label=f'1kHz: {label} [e-8 V/sqrt(Hz)]')\n",
    "ax.semilogx(freq, 1.41e-8*np.ones(len(freq)), label='Target')\n",
    "#ax.set_ylim(0,5e3)\n",
    "#ax.set_ylim(0.9e-8,1.45e-8)\n",
    "ax.ticklabel_format(style='sci', axis='y', scilimits=(-8,-8))\n",
    "ax.set_title('Instrumentation Amp Voltage Noise [V/$\\sqrt{Hz}$]')\n",
    "ax.set_ylabel('Voltage Noise [V/$\\sqrt{Hz}$]')\n",
    "ax.set_xlabel('Frequency [Hz]')\n",
    "ax.grid(True)\n",
    "ax.legend()\n",
    "plt.show();"
   ]
  },
  {
   "cell_type": "code",
   "execution_count": 6,
   "metadata": {},
   "outputs": [],
   "source": [
    "filepath = 'data/ADA4528_ac.txt'\n",
    "df = read_ltspice(filepath,'ac','db')\n",
    "freq = df['Freq.']\n",
    "mag = df['Mag_V(vout)/(V(vp)-V(vm))']\n",
    "ang = df['Phase_V(vout)/(V(vp)-V(vm))']"
   ]
  },
  {
   "cell_type": "code",
   "execution_count": 7,
   "metadata": {},
   "outputs": [
    {
     "name": "stdout",
     "output_type": "stream",
     "text": [
      "5KHz magnitude: 40.0060[V/sqrt(Hz)]\n"
     ]
    },
    {
     "data": {
      "text/plain": [
       "669"
      ]
     },
     "execution_count": 7,
     "metadata": {},
     "output_type": "execute_result"
    }
   ],
   "source": [
    "#Find 1KHz Magnitude\n",
    "x0 = np.where(freq<=5000)[0][-1]\n",
    "mag5K = mag.iloc[x0]\n",
    "label = \"{:.4f}\".format(mag5K)\n",
    "print(f\"5KHz magnitude: {label}[V/sqrt(Hz)]\")\n",
    "x0"
   ]
  },
  {
   "cell_type": "code",
   "execution_count": 8,
   "metadata": {
    "scrolled": false
   },
   "outputs": [
    {
     "data": {
      "image/png": "[encoded data removed]",
      "text/plain": [
       "<Figure size 720x720 with 2 Axes>"
      ]
     },
     "metadata": {
      "needs_background": "light"
     },
     "output_type": "display_data"
    }
   ],
   "source": [
    "fig, axs = plt.subplots(2,figsize=(10,10))\n",
    "axs[0].set_title('Front-End Frequency Response')\n",
    "axs[0].semilogx(freq, mag, label='Vid')\n",
    "axs[0].scatter(freq[x0],mag[x0], label=f'5kHz: {label} [dB]')\n",
    "axs[0].set_ylabel('Magnitude [dB]')\n",
    "axs[0].grid()\n",
    "axs[0].legend()\n",
    "axs[1].semilogx(freq, ang, label='')\n",
    "axs[1].set_xlabel('Frequency [Hz]')\n",
    "axs[1].set_ylabel('Phase [deg]')\n",
    "axs[1].grid()\n",
    "#axs[1].legend()\n",
    "plt.show();"
   ]
  },
  {
   "cell_type": "markdown",
   "metadata": {},
   "source": [
    "#### ADC Driver"
   ]
  },
  {
   "cell_type": "markdown",
   "metadata": {},
   "source": [
    "$\\begin{eqnarray}\n",
    "&& f_{3dB} &=& \\beta f_{T}\\Bigg|_{\\beta = 1} &=& f_{T}\\\\[0.5em]\n",
    "&& t_{\\text{settle}} &\\geq& \\ln{0.0001}  &\\rightarrow& 5 \\mu s \\geq 6.9 \\tau \\\\[0.5em]\n",
    "&& \\tau_{CL} &=& \\frac{1}{2\\pi f_{3dB}} &=& \\frac{1}{2\\pi f_{T}} \\\\[0.5em]\n",
    "&& \\frac{5 \\mu s}{6.9} &\\geq&  \\frac{1}{2\\pi f_{T}} \\\\[0.5em]\n",
    "&& f_{T} &\\geq& 219,634 \\text{ Hz}\n",
    "\\end{eqnarray}$\n",
    "\n",
    "<hr>"
   ]
  },
  {
   "cell_type": "markdown",
   "metadata": {},
   "source": [
    "#### Noise Calculations"
   ]
  },
  {
   "cell_type": "code",
   "execution_count": 166,
   "metadata": {},
   "outputs": [
    {
     "data": {
      "text/latex": [
       "$\\displaystyle \\left[\\begin{matrix}R_{diff1}^{2} i_{N}^{2} + \\frac{1.646152 \\cdot 10^{-20} R_{diff1} R_{diff2}^{2} \\left(1 + \\frac{R_{diff2}}{R_{diff1}}\\right)^{2}}{\\left(R_{diff1} + R_{diff2}\\right)^{2}} + 1.646152 \\cdot 10^{-20} R_{diff2} \\left(1 + \\frac{R_{diff2}}{R_{diff1}}\\right)^{2} + 1.646152 \\cdot 10^{-20} R_{diff2} + 50 R_{gage}^{2} i_{N}^{2} + 1.646152 \\cdot 10^{-18} R_{gage} + \\frac{3.292304 \\cdot 10^{-20} R_{instF}^{2}}{R_{instG}} + 3.292304 \\cdot 10^{-20} R_{instF} + e_{N}^{2} \\left(1 + \\frac{R_{diff2}}{R_{diff1}}\\right)^{2} + 2 e_{N}^{2} \\left(\\frac{R_{instF}}{R_{instG}} + 1\\right)^{2} + \\frac{1.646152 \\cdot 10^{-20} R_{diff2}^{2}}{R_{diff1}}\\end{matrix}\\right]$"
      ],
      "text/plain": [
       "Matrix([[R_{diff1}**2*i_N**2 + 1.646152e-20*R_{diff1}*R_{diff2}**2*(1 + R_{diff2}/R_{diff1})**2/(R_{diff1} + R_{diff2})**2 + 1.646152e-20*R_{diff2}*(1 + R_{diff2}/R_{diff1})**2 + 1.646152e-20*R_{diff2} + 50*R_{gage}**2*i_N**2 + 1.646152e-18*R_{gage} + 3.292304e-20*R_{instF}**2/R_{instG} + 3.292304e-20*R_{instF} + e_N**2*(1 + R_{diff2}/R_{diff1})**2 + 2*e_N**2*(R_{instF}/R_{instG} + 1)**2 + 1.646152e-20*R_{diff2}**2/R_{diff1}]])"
      ]
     },
     "execution_count": 166,
     "metadata": {},
     "output_type": "execute_result"
    },
    {
     "data": {
      "text/plain": [
       "(2.643363177264e-13, 5.1413647772396e-07)"
      ]
     },
     "execution_count": 166,
     "metadata": {},
     "output_type": "execute_result"
    }
   ],
   "source": [
    "Rgage,Rdiff1,Rdiff2,RinstF,RinstG,eN,iN = sp.symbols('R_{gage},R_{diff1},R_{diff2},R_{instF},R_{instG},e_N,i_N')\n",
    "\n",
    "k = 1.381e-23\n",
    "T=298\n",
    "\n",
    "Ngage = (iN*Rgage/2)**2 + (4*k*T*Rgage/2)\n",
    "\n",
    "Ngain = 4*k*T*RinstG*(RinstF/RinstG)**2 + \\\n",
    "        4*k*T*RinstF + \\\n",
    "        eN**2 * (1+RinstF/RinstG)**2\n",
    "\n",
    "Ndiffn = 4*k*T*Rdiff1*(Rdiff2/Rdiff1)**2 + \\\n",
    "         4*k*T*Rdiff2 + \\\n",
    "         eN**2 * (1+Rdiff2/Rdiff1)**2 + \\\n",
    "         (iN*Rdiff1)**2\n",
    "\n",
    "Ndiffp = 4*k*T*Rdiff2*(1+Rdiff2/Rdiff1)**2 + \\\n",
    "         4*k*T*Rdiff1*(1+Rdiff2/Rdiff1)**2 * (Rdiff2/(Rdiff1+Rdiff2))**2\n",
    "\n",
    "Ntotal = 2*Ngage + 2*Ngain + Ndiffn + Ndiffp\n",
    "#Ntotal = 2*Ngain\n",
    "\n",
    "components = {\n",
    "    Rgage: 1000,\n",
    "    Rdiff1: 100e3,\n",
    "    Rdiff2: 100e3,\n",
    "    RinstF: 49.9e3,\n",
    "    RinstG: 1e3,\n",
    "    eN: 5.6e-9,\n",
    "    iN: 0.7e-12\n",
    "}\n",
    "H = sp.Matrix([Ntotal])\n",
    "H\n",
    "H = H.subs(components)\n",
    "H = lambdify((Rgage),H,modules='numpy')\n",
    "H = H(1000)\n",
    "H[0][0], np.sqrt(H[0][0])"
   ]
  },
  {
   "cell_type": "markdown",
   "metadata": {},
   "source": [
    "<hr>"
   ]
  },
  {
   "cell_type": "markdown",
   "metadata": {},
   "source": [
    "<img src=\"images/SallenKeyLP.png\" width=\"400\">"
   ]
  },
  {
   "cell_type": "code",
   "execution_count": 18,
   "metadata": {},
   "outputs": [],
   "source": [
    "s,m,n,C1,C2,R1,R2,Q,tau,W0,Wc,Cn,K = sp.symbols('s,m,n,C1,C2,R1,R2,Q,tau,omega0,Wc,Cn,K')"
   ]
  },
  {
   "cell_type": "code",
   "execution_count": 21,
   "metadata": {},
   "outputs": [
    {
     "data": {
      "text/plain": [
       "([{C1: 2.73256222249123e-9,\n",
       "   R1: 6576.40957251159,\n",
       "   R2: 6576.40957251159,\n",
       "   Wc: 27703.6389205449,\n",
       "   n: 3.65956900000000,\n",
       "   tau: 1.79704483574749e-5}],\n",
       " {omega0: 9259.25925925926*pi, Cn: 1.05, Q: 0.9565, m: 1, C2: 1e-08})"
      ]
     },
     "execution_count": 21,
     "metadata": {},
     "output_type": "execute_result"
    }
   ],
   "source": [
    "# Low Pass ChebyShev\n",
    "fc1 = 5e3/1.08\n",
    "systemLP = sp.Matrix([\n",
    "    [W0 - 1/(tau*sp.sqrt(m*n))],\n",
    "    [W0 - Cn*Wc],\n",
    "    [Q - sp.sqrt(m*n)/(1+m)],\n",
    "    [m - R1/R2],\n",
    "    [n - C2/C1],\n",
    "    [tau - R2*C1]\n",
    "])\n",
    "myVals = {\n",
    "    W0:2*sp.pi*fc1,  # 5KHz\n",
    "    Cn:1.0500,       # Table \n",
    "    Q:0.9565,        # Table \n",
    "    m:1,             # Chosen Ratio \n",
    "    C2:10e-9         # Chosen Value \n",
    "}\n",
    "systemLP = systemLP.subs(myVals)\n",
    "eq = sp.solve(systemLP)\n",
    "eq, myVals"
   ]
  },
  {
   "cell_type": "code",
   "execution_count": 12,
   "metadata": {},
   "outputs": [],
   "source": [
    "f = np.logspace(1, 5, 10000)\n",
    "w = 2*np.pi*f\n",
    "#s = 1j*w\n",
    "\n",
    "num = 1/(R1*R2*C1*C2)\n",
    "a = 1\n",
    "b = (1/C2)*(R1+R2)/(R1*R2)\n",
    "c = 1/(R1*R2*C1*C2)\n",
    "den = a*s**2 + b*s + c\n",
    "\n",
    "components = {\n",
    "    C1:2.73256222249123e-9,\n",
    "    C2:10e-9,\n",
    "    R1:6454,\n",
    "    R2:6454\n",
    "}\n",
    "H = sp.Matrix([num/den])\n",
    "H = H.subs(components)\n",
    "H = lambdify(s,H,modules='numpy')\n",
    "H = H(1j*w)\n",
    "H = H[0][0]"
   ]
  },
  {
   "cell_type": "code",
   "execution_count": 13,
   "metadata": {},
   "outputs": [
    {
     "data": {
      "image/png": "[encoded data removed]",
      "text/plain": [
       "<Figure size 576x360 with 1 Axes>"
      ]
     },
     "metadata": {
      "needs_background": "light"
     },
     "output_type": "display_data"
    }
   ],
   "source": [
    "fig, ax = plt.subplots(figsize=(8,5))\n",
    "\n",
    "x1 = np.where(20*np.log10(abs(H))<=-1)[0][0]\n",
    "label1 = \"{:.2f}dB, {:.0f}Hz\".format(20*np.log10(abs(H[x1])),f[x1])\n",
    "x2 = np.where(f>=50000)[0][0]\n",
    "label2 = \"{:.2f}dB, {:.0f}Hz\".format(20*np.log10(abs(H[x2])),f[x2])\n",
    "\n",
    "ax.set_title('Frequency Response')\n",
    "ax.semilogx(f, 1*np.ones(len(H)),color='tab:orange',linewidth=.75)\n",
    "ax.semilogx(f,-1*np.ones(len(H)),color='tab:orange',linewidth=.75,label='1dB ripple')\n",
    "ax.semilogx(f, 20*np.log10(abs(H)),label=r'$2^{nd}$ Order LP')\n",
    "ax.scatter(f[x1],20*np.log10(abs(H[x1])),label=label1,color='tab:blue')\n",
    "ax.scatter(f[x2],20*np.log10(abs(H[x2])),label=label2,color='tab:blue')\n",
    "ax.set_ylabel('Magnitude [dB]')\n",
    "ax.grid(which='both', axis='both')\n",
    "ax.legend()\n",
    "plt.show();"
   ]
  },
  {
   "cell_type": "markdown",
   "metadata": {},
   "source": [
    "<img src=\"images/SallenKeyHP.png\" width=\"400\">"
   ]
  },
  {
   "cell_type": "code",
   "execution_count": 94,
   "metadata": {},
   "outputs": [],
   "source": [
    "s,m,n,C1,C2,R1,R2,Q,tau,W0,Wc,Cn,K = sp.symbols('s,m,n,C1,C2,R1,R2,Q,tau,omega0,Wc,Cn,K')"
   ]
  },
  {
   "cell_type": "code",
   "execution_count": 101,
   "metadata": {},
   "outputs": [
    {
     "data": {
      "text/plain": [
       "([{C1: 1.00000000000000e-6,\n",
       "   R1: 282868.168589882,\n",
       "   R2: 77295.4871433991,\n",
       "   Wc: 1.94039546251134,\n",
       "   m: 3.65956900000000,\n",
       "   tau: 0.282868168589882}],\n",
       " {omega0: 0.588235294117647*pi, Cn: 1.05, Q: 0.9565, n: 1, C2: 1e-06})"
      ]
     },
     "execution_count": 101,
     "metadata": {},
     "output_type": "execute_result"
    }
   ],
   "source": [
    "# High Pass ChebyShev\n",
    "fc1 = 1/3.4\n",
    "systemHP = sp.Matrix([\n",
    "    [W0 - 1/(tau*sp.sqrt(m*n))],\n",
    "    [W0 - Wc/Cn],\n",
    "    [Q - sp.sqrt(m*n)/(1+n)],\n",
    "    [m - R1/R2],\n",
    "    [n - C2/C1],\n",
    "    [tau - R1*C2]\n",
    "])\n",
    "myVals = {\n",
    "    W0:2*sp.pi*fc1,    # 1Hz\n",
    "    Cn:1.0500,       # Table \n",
    "    Q:0.9565,        # Table \n",
    "    n:1,             # Chosen Ratio \n",
    "    C2:1e-6         # Chosen Value \n",
    "}\n",
    "systemHP = systemHP.subs(myVals)\n",
    "eq = sp.solve(systemHP)\n",
    "eq, myVals"
   ]
  },
  {
   "cell_type": "code",
   "execution_count": 102,
   "metadata": {},
   "outputs": [],
   "source": [
    "f = np.logspace(-2, 4, 10000)\n",
    "w = 2*np.pi*f\n",
    "#s = 1j*w\n",
    "\n",
    "num = 1*s**2\n",
    "a = 1\n",
    "b = (1/R1)*(C1+C2)/(C1*C2)\n",
    "c = 1/(R1*R2*C1*C2)\n",
    "den = a*s**2 + b*s + c\n",
    "\n",
    "components = {\n",
    "    C1:1e-6,\n",
    "    C2:1e-6,\n",
    "    R1:282868.168589882,\n",
    "    R2:77295.4871433991\n",
    "}\n",
    "H = sp.Matrix([num/den])\n",
    "H = H.subs(components)\n",
    "H = lambdify(s,H,modules='numpy')\n",
    "H = H(1j*w)\n",
    "H = H[0][0]"
   ]
  },
  {
   "cell_type": "code",
   "execution_count": 103,
   "metadata": {},
   "outputs": [
    {
     "data": {
      "image/png": "[encoded data removed]",
      "text/plain": [
       "<Figure size 576x360 with 1 Axes>"
      ]
     },
     "metadata": {
      "needs_background": "light"
     },
     "output_type": "display_data"
    }
   ],
   "source": [
    "fig, ax = plt.subplots(figsize=(8,5))\n",
    "\n",
    "x1 = np.where(20*np.log10(abs(H))<=-1)[0][-1]\n",
    "label1 = \"{:.2f}dB, {:.2f}Hz\".format(20*np.log10(abs(H[x1])),f[x1])\n",
    "\n",
    "ax.set_title('Frequency Response')\n",
    "ax.semilogx(f, 1*np.ones(len(H)),color='tab:orange',linewidth=.75)\n",
    "ax.semilogx(f,-1*np.ones(len(H)),color='tab:orange',linewidth=.75,label='1dB ripple')\n",
    "ax.semilogx(f, 20*np.log10(abs(H)),label=r'$2^{nd}$ Order HP')\n",
    "ax.scatter(f[x1],20*np.log10(abs(H[x1])),label=label1,color='tab:blue')\n",
    "ax.set_ylabel('Magnitude [dB]')\n",
    "ax.grid(which='both', axis='both')\n",
    "ax.legend()\n",
    "plt.show();"
   ]
  },
  {
   "cell_type": "markdown",
   "metadata": {},
   "source": [
    "<hr>"
   ]
  },
  {
   "cell_type": "code",
   "execution_count": null,
   "metadata": {},
   "outputs": [],
   "source": []
  }
 ],
 "metadata": {
  "kernelspec": {
   "display_name": "Python 3",
   "language": "python",
   "name": "python3"
  },
  "language_info": {
   "codemirror_mode": {
    "name": "ipython",
    "version": 3
   },
   "file_extension": ".py",
   "mimetype": "text/x-python",
   "name": "python",
   "nbconvert_exporter": "python",
   "pygments_lexer": "ipython3",
   "version": "3.7.3"
  }
 },
 "nbformat": 4,
 "nbformat_minor": 2
}
