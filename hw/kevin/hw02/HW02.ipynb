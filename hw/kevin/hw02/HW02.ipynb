{
 "cells": [
  {
   "cell_type": "markdown",
   "metadata": {},
   "source": [
    "# HW02\n",
    "EE 538 Spring 2020 <br>\n",
    "Analog Circuits for Sensor Systems <br>\n",
    "University of Washington Electrical & Computer Engineering <br>\n",
    "\n",
    "Due: April 18, 2020 <br>\n",
    "Author: Kevin Egedy"
   ]
  },
  {
   "cell_type": "code",
   "execution_count": 3,
   "metadata": {},
   "outputs": [],
   "source": [
    "# Imports\n",
    "import os\n",
    "import sys\n",
    "import cmath\n",
    "import math\n",
    "import matplotlib.pyplot as plt\n",
    "import matplotlib\n",
    "import numpy as np\n",
    "import pandas as pd\n",
    "import ltspice\n",
    "import sympy as sp\n",
    "from scipy import signal\n",
    "%matplotlib inline\n",
    "from IPython.core.interactiveshell import InteractiveShell\n",
    "InteractiveShell.ast_node_interactivity = \"all\""
   ]
  },
  {
   "cell_type": "code",
   "execution_count": null,
   "metadata": {},
   "outputs": [],
   "source": [
    "def read_ltspice_tran(file_name):\n",
    "    cols = []\n",
    "    arrs = []\n",
    "    with open(file_name, 'r',encoding='utf-8') as data:\n",
    "        for i,line in enumerate(data):\n",
    "            if i==0:\n",
    "                cols = line.split()\n",
    "                arrs = [[] for _ in cols]\n",
    "                continue\n",
    "            parts = line.split()\n",
    "            for j,part in enumerate(parts):\n",
    "                arrs[j].append(part)\n",
    "    df = pd.DataFrame(arrs,dtype='float64')\n",
    "    df = df.T\n",
    "    df.columns = cols\n",
    "    return df"
   ]
  },
  {
   "cell_type": "markdown",
   "metadata": {},
   "source": [
    "<img src=\"images/HW02Q1.png\" width=\"700\">"
   ]
  },
  {
   "cell_type": "markdown",
   "metadata": {},
   "source": [
    "**Part A**"
   ]
  },
  {
   "cell_type": "markdown",
   "metadata": {},
   "source": [
    "Given $f_{3\\text{dB,HP}} = 10\\text{Hz}$ and $V_B = 1V$.\n",
    "\n",
    "Solve\n",
    "\n",
    "$\\begin{eqnarray}\n",
    "& f_{3\\text{dB}} &=& \\frac{1}{2\\pi RC} \\\\\n",
    "& 10\\text{Hz}    &=& \\frac{1}{2\\pi R_{\\text{eq}}C} \\Bigg|_{C=1\\text{pF}} \\\\\n",
    "& R_{\\text{eq}}  &=& R_{B_2}//R_{B_1} = 15915 \\Omega \\\\\n",
    "\\text{and} \\\\\n",
    "& V_{\\text{out}} &=& V_{\\text{in}}\\frac{R_{2}}{R_{1}+R_{2}} \\\\\n",
    "& V_b            &=& V_{\\text{in}}\\frac{R_{B_2}}{R_{B_1}+R_{B_2}} \\\\\n",
    "& 1              &=& 5 \\frac{R_{B_2}}{R_{B_1}+R_{B_2}} \\\\\n",
    "\\text{then} \\\\\n",
    "&                && R_{B_2} = 19893, R_{B_1} = 79572 \n",
    "\\end{eqnarray}$\n",
    "\n",
    "<hr>"
   ]
  },
  {
   "cell_type": "markdown",
   "metadata": {},
   "source": [
    "**Part B**"
   ]
  },
  {
   "cell_type": "markdown",
   "metadata": {},
   "source": [
    "Find $\\frac{v_{\\text{out}}}{v_B}$\n",
    "\n",
    "$\\begin{eqnarray}\n",
    "& I_E &&=&& \\beta I_B     &&=&& \\frac{V_E}{R_E}   \\\\\n",
    "& I_C &&=&& (\\beta +1)I_B &&=&& \\frac{V_{CC}-V_{\\text{out}}}{R_C} \\\\\n",
    "& V_E &&=&& V_B - 0.6     &&\\approx&& V_S - 0.6 \\\\\n",
    "& I_E &&\\approx&& I_C     &&&& \\text{for }\\beta >= 100 & \\text{then } \\\\\n",
    "& \\frac{V_S-0.6}{R_E} &&=&& \\frac{V_{CC}}{V_{\\text{out}}} \\\\\n",
    "& V_{\\text{out}} &&=&& V_{CC} - \\frac{R_C}{R_E}(V_S-0.6)  \\\\\n",
    "& V_{\\text{out}} &&=&& -\\frac{R_C}{R_E}V_S +V_{DC}\n",
    "\\end{eqnarray}$\n",
    "\n",
    "Given $V_B = 1\\text{V}$ and $I_C = 1\\text{mA}$, solve\n",
    "\n",
    "$\\begin{eqnarray}\n",
    "& V_{\\text{out}} &&=&& V_{CC} - \\frac{R_C}{R_E}(V_S-0.6) \\\\\n",
    "& V_{\\text{out}} &&=&& 5-10\\cdot(1-0.6)          \\\\\n",
    "& V_{\\text{out}} &&=&& 1\\text{V} \\\\\n",
    "\\text{And} \\\\\n",
    "& I_C            &&=&& \\frac{V_{CC}-V_{\\text{out}}}{R_C} \\\\\n",
    "& 1\\text{mA}     &&=&& \\frac{5-1}{R_C} \\\\\n",
    "\\text{then} \\\\\n",
    "& R_C            &&=&& 4k\\Omega, R_E = 400\\Omega\n",
    "\\end{eqnarray}$\n",
    "\n",
    "Find $V_{CE}$\n",
    "\n",
    "$V_C = V_{\\text{out}} = 1$ and $V_E = 1 - 0.6 = 0.4$ so $V_{CE} = 0.6$.\n",
    "\n",
    "<hr>"
   ]
  },
  {
   "cell_type": "markdown",
   "metadata": {},
   "source": [
    "**Part C**"
   ]
  },
  {
   "cell_type": "code",
   "execution_count": 62,
   "metadata": {},
   "outputs": [
    {
     "data": {
      "image/png": "[encoded data removed]",
      "text/plain": [
       "<Figure size 576x576 with 2 Axes>"
      ]
     },
     "metadata": {
      "needs_background": "light"
     },
     "output_type": "display_data"
    }
   ],
   "source": [
    "f1 = np.linspace(1e-3,1e1,100000)\n",
    "f2 = np.linspace(1e1,1e5,100000)\n",
    "f = np.concatenate((f1,f2))\n",
    "w = 2*np.pi*f\n",
    "s = 1j*w\n",
    "R = 15915\n",
    "C = 1e-6\n",
    "tau = R*C\n",
    "Vout_Vb = 10            # R_C/R_E\n",
    "Vb_Vin = s*tau/(s*tau+1)\n",
    "H = Vb_Vin * Vout_Vb\n",
    "\n",
    "# Plot the frequency response\n",
    "fig, axs = plt.subplots(2,figsize=(8,8))\n",
    "axs[0].set_title('Frequency Response LTspice/Ideal')\n",
    "axs[0].semilogx(f, 20*np.log10(abs(H)),label='Ideal')\n",
    "axs[0].set_ylabel('Magnitude [dB]')\n",
    "axs[0].grid()\n",
    "axs[0].legend()\n",
    "\n",
    "axs[1].semilogx(f, np.angle(H,deg=True),label='Ideal')\n",
    "axs[1].set_ylabel('Phase [deg]')\n",
    "axs[1].set_xlabel('Frequency [Hz]')\n",
    "axs[1].grid()\n",
    "axs[1].legend()\n",
    "plt.show();"
   ]
  },
  {
   "cell_type": "markdown",
   "metadata": {},
   "source": [
    "**Part D**"
   ]
  },
  {
   "cell_type": "code",
   "execution_count": null,
   "metadata": {},
   "outputs": [],
   "source": []
  },
  {
   "cell_type": "markdown",
   "metadata": {},
   "source": [
    "<img src=\"images/HW02Q2.png\" width=\"700\">"
   ]
  },
  {
   "cell_type": "code",
   "execution_count": null,
   "metadata": {},
   "outputs": [],
   "source": []
  }
 ],
 "metadata": {
  "kernelspec": {
   "display_name": "Python 3",
   "language": "python",
   "name": "python3"
  },
  "language_info": {
   "codemirror_mode": {
    "name": "ipython",
    "version": 3
   },
   "file_extension": ".py",
   "mimetype": "text/x-python",
   "name": "python",
   "nbconvert_exporter": "python",
   "pygments_lexer": "ipython3",
   "version": "3.7.4"
  }
 },
 "nbformat": 4,
 "nbformat_minor": 2
}
