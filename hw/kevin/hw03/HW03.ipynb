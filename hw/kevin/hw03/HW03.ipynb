{
 "cells": [
  {
   "cell_type": "markdown",
   "metadata": {},
   "source": [
    "# Assignment 03\n",
    "EE 538 Spring 2020 <br>\n",
    "Analog Circuits for Sensor Systems <br>\n",
    "University of Washington Electrical & Computer Engineering <br>\n",
    "\n",
    "Due: April 25, 2020 <br>\n",
    "Author: Kevin Egedy"
   ]
  },
  {
   "cell_type": "code",
   "execution_count": 1,
   "metadata": {},
   "outputs": [],
   "source": [
    "# Imports\n",
    "import os\n",
    "import sys\n",
    "import cmath\n",
    "import math\n",
    "import matplotlib.pyplot as plt\n",
    "import matplotlib\n",
    "import numpy as np\n",
    "import pandas as pd\n",
    "import ltspice\n",
    "import sympy as sp\n",
    "from scipy import signal\n",
    "%matplotlib inline\n",
    "from IPython.core.interactiveshell import InteractiveShell\n",
    "InteractiveShell.ast_node_interactivity = \"all\""
   ]
  },
  {
   "cell_type": "code",
   "execution_count": 2,
   "metadata": {},
   "outputs": [],
   "source": [
    "def read_ltspice_tran(file_name):\n",
    "    cols = []\n",
    "    arrs = []\n",
    "    with open(file_name, 'r',encoding='utf-8') as data:\n",
    "        for i,line in enumerate(data):\n",
    "            if i==0:\n",
    "                cols = line.split()\n",
    "                arrs = [[] for _ in cols]\n",
    "                continue\n",
    "            parts = line.split()\n",
    "            for j,part in enumerate(parts):\n",
    "                arrs[j].append(part)\n",
    "    df = pd.DataFrame(arrs,dtype='float64')\n",
    "    df = df.T\n",
    "    df.columns = cols\n",
    "    return df"
   ]
  },
  {
   "cell_type": "markdown",
   "metadata": {},
   "source": [
    "<img src=\"images/HW03Q1.png\" width=\"600\">"
   ]
  },
  {
   "cell_type": "markdown",
   "metadata": {},
   "source": [
    "**Part A**\n",
    "\n",
    "<b>Structure A: $T=300K, V_A=100, C_L=10\\text{pF}, I_C = 1\\text{mA}$<b><br>\n",
    "    \n",
    "Given <br>\n",
    "$\\begin{eqnarray}\n",
    "& I_{C0} &=& I_S(e^{V_{\\text{BE}}/V_T}-1) \\\\[1ex]\n",
    "& I_C &=& I_{C0}(1+\\frac{V_{CE}}{V_A}), V_A \\gg V_{CE} \\rightarrow I_C \\approx I_{C0} \\\\[1ex]\n",
    "\\end{eqnarray}$\n",
    "<br>\n",
    "\n",
    "<br>\n",
    "Find $\\frac{v_{\\text{out}}}{v_{\\text{in}}}$\n",
    "<br>\n",
    "\n",
    "$\\begin{eqnarray}\n",
    "& V_{in} &=& V_{\\text{BE}} \\\\[1ex]\n",
    "& V_T &=& \\frac{kT}{q} \\Bigg|_{T=300K} &=& 25.86\\text{mV} \\\\[1ex]\n",
    "& g_m &=& \\frac{I_{CO}}{V_T} \\\\[1ex]\n",
    "& r_0 &=& \\frac{V_A}{I_{C0}} \\\\[1ex]\n",
    "& i_C &=& g_m v_{\\text{be}} \\\\[1.5ex]\n",
    "& v_{\\text{out}} &=& -i_c r_0 = -g_m v_{\\text{in}} r_0 \\\\[1.5ex]\n",
    "& \\frac{v_{\\text{out}}}{v_{\\text{in}}} &=& -g_m r_0 \\\\[1.5ex] \n",
    "& &=& \\frac{V_A}{V_T} =-3867\n",
    "\\end{eqnarray}$\n",
    "\n",
    "<br>\n",
    "<br>Find transconductance efficiency $\\frac{g_m}{I_C}$<br>\n",
    "\n",
    "    \n",
    "$\\begin{eqnarray}\n",
    "& g_m    &=& \\frac{I_{C0}}{V_T} \\\\[1ex]\n",
    "& \\frac{g_m}{I_C} &=& \\frac{I_{C0}}{I_C V_T} &\\approx& \\frac{1}{V_T} &=& 38.67 \\text{V}^{-1}\n",
    "\\end{eqnarray}$"
   ]
  },
  {
   "cell_type": "markdown",
   "metadata": {},
   "source": [
    "<br><br>\n",
    "<b>Structure B $T=300K, C_L=10\\text{pF}, I_D = 1\\text{mA}, V_{\\text{GS}-V_{\\text{th}}}=500\\text{mV}, \\lambda = 0.1\\text{V}^{-1}$<b>\n",
    "<br>\n",
    "    \n",
    "Given <br>\n",
    "\n",
    "$\\begin{eqnarray}\n",
    "& I_D \\approx I_{D0} \\\\[1ex]\n",
    "\\end{eqnarray}$\n",
    "\n",
    "<br>\n",
    "Find $\\frac{v_{\\text{out}}}{v_{\\text{in}}}$\n",
    "<br>\n",
    "\n",
    "$\\begin{eqnarray}\n",
    "& v_{\\text{in}} &=& v_{\\text{GS}} \\\\[1ex]\n",
    "& g_m &=& \\frac{2I_{D0}}{V_{\\text{GS}}-V_{\\text{th}}} \\\\[1ex]\n",
    "& r_0 &=& \\frac{1}{\\lambda I_{D0}} \\\\[1ex]\n",
    "& i_D &=& g_m v_{\\text{gs}} \\\\[1ex]\n",
    "& v_{\\text{out}} &=& -i_D r_0 = -g_m v_{\\text{in}} r_0 \\\\[1ex]\n",
    "& \\frac{v_{\\text{out}}}{v_{\\text{in}}} &=& -g_m r_0 \\\\[1ex]\n",
    "& &=& \\frac{-2I_{D0}}{\\lambda I_{D0}(V_{\\text{GS}}-V_{\\text{th}})} \\\\[1ex]\n",
    "& &=& \\frac{-2}{\\lambda(V_{\\text{GS}}-V_{\\text{th}})} \\\\[1.5ex]\n",
    "& &=& -40\n",
    "\\end{eqnarray}$\n",
    "\n",
    "<br> \n",
    "Find transconductance efficiency $\\frac{g_m}{I_D}$\n",
    "<br>\n",
    "\n",
    "$\\begin{eqnarray}\n",
    "& g_m &=& \\frac{2I_{D0}}{V_{\\text{GS}}-V_{\\text{th}}} \\\\[1ex]\n",
    "& \\frac{g_m}{I_D} &\\approx& \\frac{2}{V_{\\text{GS}}-V_{\\text{th}}}\n",
    "=4\\text{V}^{-1}\n",
    "\\end{eqnarray}$"
   ]
  },
  {
   "cell_type": "markdown",
   "metadata": {},
   "source": [
    "**Part B**\n",
    "\n",
    "\n",
    "<img src=\"images/HW03Q1Structure1.png\" width=\"500\">"
   ]
  },
  {
   "cell_type": "code",
   "execution_count": 11,
   "metadata": {},
   "outputs": [],
   "source": [
    "def parallel(Z1,Z2):\n",
    "    return 1/((1/Z1)+(1/Z2))"
   ]
  },
  {
   "cell_type": "markdown",
   "metadata": {},
   "source": [
    "<b>Structure A: $T=300K, V_A=100, C_L=10\\text{pF}, I_C = 1\\text{mA}$<b>\n",
    "\n",
    "$\\begin{eqnarray}\n",
    "& V_{in} &=& V_{\\text{BE}} \\\\[1ex]\n",
    "& i_C &=& g_m v_{\\text{be}} \\\\[1.5ex]\n",
    "& g_m &=& \\frac{I_{CO}}{V_T} = 0.03867\\\\[1ex]\n",
    "& r_0 &=& \\frac{V_A}{I_{C0}} = 100000\\\\[1ex]\n",
    "& v_{\\text{out}} &=& -i_c r_{\\text{eq}} = -g_m v_{\\text{in}} (r_0 \\| C_L) \\\\[0.5ex]\n",
    "& \\frac{v_{\\text{out}}}{v_{\\text{in}}} &=& -g_m (r_0 \\| C_L)\\\\[1.5ex] \n",
    "& &=& -g_m\\frac{r_0}{1+sr_0 C} \\\\[1ex]\n",
    "& \\Bigg| \\frac{v_{\\text{out}}}{v_{\\text{in}}} \\Bigg| &=& \n",
    "g_m\\frac{r_0}{\\sqrt{1+(2\\pi f r_0 C)^2}} \\rightarrow f_T &=& 6.15\\cdot 10^8 \\text{Hz}\n",
    "\\end{eqnarray}$"
   ]
  },
  {
   "cell_type": "code",
   "execution_count": 76,
   "metadata": {},
   "outputs": [
    {
     "name": "stdout",
     "output_type": "stream",
     "text": [
      "fT frequency at 6.16e+08\n"
     ]
    },
    {
     "data": {
      "image/png": "[encoded data removed]",
      "text/plain": [
       "<Figure size 576x576 with 2 Axes>"
      ]
     },
     "metadata": {
      "needs_background": "light"
     },
     "output_type": "display_data"
    }
   ],
   "source": [
    "f1 = np.linspace(1e2,1e6,100000)\n",
    "f2 = np.linspace(1e6,1e10,100000)\n",
    "f = np.concatenate((f1,f2))\n",
    "w = 2*np.pi*f\n",
    "s = 1j*w\n",
    "gm = 0.03867             # change\n",
    "r0 = 100000              # change\n",
    "C = 10e-12\n",
    "Z_C = 1/(s*C)\n",
    "H = gm*parallel(r0,Z_C)\n",
    "#H = gm*r0/(1+s*r0*C)\n",
    "\n",
    "#Find fT, frequency where magnitude is 1V/V.\n",
    "mag = abs(H)\n",
    "x0 = np.where(mag<=1)[0][0]\n",
    "label = \"{:.2e}\".format(f[x0])\n",
    "print(f\"fT frequency at {label}\")\n",
    "\n",
    "# Plot the frequency response\n",
    "fig, axs = plt.subplots(2,figsize=(8,8))\n",
    "axs[0].set_title('Frequency Response Structure A')\n",
    "axs[0].semilogx(f, 20*np.log10(abs(H)))\n",
    "axs[0].scatter(f[x0], 20*np.log10(mag[x0]),label=f\"fT: {label}Hz\")\n",
    "axs[0].set_ylabel('Magnitude [dB]')\n",
    "axs[0].grid()\n",
    "axs[0].legend()\n",
    "\n",
    "axs[1].semilogx(f, np.angle(H,deg=True),label='Ideal')\n",
    "axs[1].set_ylabel('Phase [deg]')\n",
    "axs[1].set_xlabel('Frequency [Hz]')\n",
    "axs[1].grid()\n",
    "#axs[1].legend()\n",
    "plt.show();"
   ]
  },
  {
   "cell_type": "markdown",
   "metadata": {},
   "source": [
    "<b>Structure B<b> $T=300K, C_L=10\\text{pF}, I_D = 1\\text{mA}, V_{\\text{GS}-V_{\\text{th}}}=500\\text{mV}, \\lambda = 0.1\\text{V}^{-1}$\n",
    "\n",
    "$\\begin{eqnarray}\n",
    "& V_{\\text{in}} &=& V_{\\text{GS}} \\\\[1ex]\n",
    "& i_D &=& g_m v_{\\text{gs}} \\\\[1ex]\n",
    "& g_m &=& \\frac{\\partial{I_D}}{\\partial{V_{\\text{GS}}}} \n",
    "= \\frac{2I_{D0}}{V_{\\text{GS}}-V_{\\text{th}}} = 0.004\\\\[1ex]\n",
    "& r_0 &=& \\frac{1}{\\lambda I_{D0}} = 10000\\\\[1ex]\n",
    "& v_{\\text{out}} &=& -i_D r_{\\text{eq}} = -g_m v_{\\text{in}} (r_0 \\| C_L) \\\\[1ex]\n",
    "& \\frac{v_{\\text{out}}}{v_{\\text{in}}} &=& -g_m (r_0 \\| C_L) \\\\[1ex]\n",
    "& &=& -g_m\\frac{r_0}{1+sr_0 C} \\\\[1ex]\n",
    "& \\Bigg| \\frac{v_{\\text{out}}}{v_{\\text{in}}} \\Bigg| &=& \n",
    "g_m\\frac{r_0}{\\sqrt{1+(2\\pi f r_0 C)^2}} \\rightarrow f_T &=& 6.36\\cdot 10^7 \\text{Hz}\n",
    "\\end{eqnarray}$"
   ]
  },
  {
   "cell_type": "code",
   "execution_count": 75,
   "metadata": {},
   "outputs": [
    {
     "name": "stdout",
     "output_type": "stream",
     "text": [
      "fT frequency at 6.37e+07\n"
     ]
    },
    {
     "data": {
      "image/png": "[encoded data removed]",
      "text/plain": [
       "<Figure size 576x576 with 2 Axes>"
      ]
     },
     "metadata": {
      "needs_background": "light"
     },
     "output_type": "display_data"
    }
   ],
   "source": [
    "f1 = np.linspace(1e2,1e6,100000)\n",
    "f2 = np.linspace(1e6,1e10,100000)\n",
    "f = np.concatenate((f1,f2))\n",
    "w = 2*np.pi*f\n",
    "s = 1j*w\n",
    "gm = 0.004                # change\n",
    "r0 = 10000                # change\n",
    "C = 10e-12\n",
    "Z_C = 1/(s*C)\n",
    "H = gm*parallel(r0,Z_C)\n",
    "#H = gm*r0/(1+s*r0*C)\n",
    "\n",
    "#Find fT, frequency where magnitude is 1V/V.\n",
    "mag = abs(H)\n",
    "x0 = np.where(mag<=1)[0][0]\n",
    "label = \"{:.2e}\".format(f[x0])\n",
    "print(f\"fT frequency at {label}\")\n",
    "\n",
    "# Plot the frequency response\n",
    "fig, axs = plt.subplots(2,figsize=(8,8))\n",
    "axs[0].set_title('Frequency Response Structure B')\n",
    "axs[0].semilogx(f, 20*np.log10(abs(H)))\n",
    "axs[0].scatter(f[x0], 20*np.log10(mag[x0]),label=f\"fT: {label}Hz\")\n",
    "axs[0].set_ylabel('Magnitude [dB]')\n",
    "axs[0].grid()\n",
    "axs[0].legend()\n",
    "\n",
    "axs[1].semilogx(f, np.angle(H,deg=True))\n",
    "axs[1].set_ylabel('Phase [deg]')\n",
    "axs[1].set_xlabel('Frequency [Hz]')\n",
    "axs[1].grid()\n",
    "#axs[1].legend()\n",
    "plt.show();"
   ]
  },
  {
   "cell_type": "markdown",
   "metadata": {},
   "source": [
    "**Part C**\n",
    "\n",
    "<b>Given $I_D = 1\\text{mA}, V_{\\text{GS}}-V_{\\text{th}} = 500\\text{mV}$ <b>\n",
    "<br>\n",
    "\n",
    "$\\begin{eqnarray}\n",
    "& \\frac{g_m}{I_D} &\\approx& \\frac{2I_{D0}}{I_{D}(V_{\\text{GS}}-V_{\\text{th}})} \\Bigg|_{I_D = 1\\text{mA}, V_{\\text{GS}}-V_{\\text{th}} = 500\\text{mV}} &=& 4\\text{V}^{-1} \\\\[1ex]\n",
    "\\end{eqnarray}$\n",
    "\n",
    "<br>\n",
    "<b>Given $I_D = I_se^{V_{\\text{GS}}/nV_T} \\Bigg|_{n=1.5, V_T = 25.86\\text{mV}}$ <b>\n",
    "<br>\n",
    "\n",
    "$\\begin{eqnarray}\n",
    "& g_m &=& \\frac{\\partial{I_D}}{\\partial{V_{\\text{GS}}}} \n",
    "= \\frac{\\partial}{\\partial{V_{\\text{GS}}}} I_se^{V_{\\text{GS}}/nV_T}\n",
    "&=& \\frac{I_s}{nV_T}e^{V_{\\text{GS}}/nV_T} \\\\[1ex]\n",
    "& \\frac{g_m}{I_D} &=& \\frac{\\frac{I_s}{nV_T}e^{V_{\\text{GS}}/nV_T}}\n",
    "{I_se^{V_{\\text{GS}}/nV_T}} \\\\[1ex]\n",
    "& &=& \\frac{1}{nV_T} \\\\[1ex]\n",
    "& &=& 25.78 \\text{V}^{-1}\n",
    "\\end{eqnarray}$"
   ]
  },
  {
   "cell_type": "markdown",
   "metadata": {},
   "source": [
    "<img src=\"images/HW03Q2.png\" width=\"600\">"
   ]
  },
  {
   "cell_type": "markdown",
   "metadata": {},
   "source": [
    "**Part A**\n",
    "\n",
    "<b>Given: $I_S = 10^{-14}\\text{A}, \\beta = 300, V_A = 100, V_{CC}=5, N=8$<b>\n",
    "<br>\n",
    "    \n",
    "Find: $R_1$ such that $I_{C1} = I_{C2} = 50\\mu$A\n",
    "<br><br>\n",
    "    \n",
    "$\\begin{eqnarray}\n",
    "& V_T &=& \\frac{kT}{q} \\Bigg|_{T=27C=300K} &=& 25.86\\text{mV} \\\\[1ex]\n",
    "\\end{eqnarray}$"
   ]
  },
  {
   "cell_type": "code",
   "execution_count": null,
   "metadata": {},
   "outputs": [],
   "source": []
  },
  {
   "cell_type": "code",
   "execution_count": null,
   "metadata": {},
   "outputs": [],
   "source": []
  },
  {
   "cell_type": "markdown",
   "metadata": {},
   "source": [
    "<img src=\"images/HW03Q3.png\" width=\"600\">"
   ]
  },
  {
   "cell_type": "markdown",
   "metadata": {},
   "source": [
    "**Part A**\n",
    "\n",
    "$\\begin{eqnarray}\n",
    "& V_{\\text{out}} &=& V_{DD} - \\kappa(V_{\\text{in}}-V_{\\text{th}})^2 R_D \\\\[1ex]\n",
    "& V_{\\text{in}} &=& a_{\\text{in}}\\sin{(2\\pi f t)}+V_{DC} \\Bigg|_{V_{DC} = V_{\\text{th}}+500\\text{mV}} \\\\[1ex]\n",
    "& V_{\\text{out}} &=& V_{DD} - \\kappa R_D [a_{\\text{in}}\\sin{(2\\pi f_0 t)}+V_{\\text{th}}+500\\text{mV}-V_{\\text{th}}]^2 \\\\[1.5ex]\n",
    "& V_{\\text{out}} &=& V_{DD} - \\kappa R_D [a_{\\text{in}}\\sin{(2\\pi f t)}+0.5]^2  \\\\[1.5ex]\n",
    "& &=& V_{DD} - \\kappa R_D [{a_{\\text{in}}}^2\\sin^2{(2\\pi f_0 t)}+a_{\\text{in}}\\sin{(2\\pi f_0 t)}+0.25] \\Bigg|_{w=2\\pi f_0}\\\\[.5ex]\n",
    "& &=& V_{DD} - \\kappa R_D [{a_{\\text{in}}}^2\\sin^2{(wt)}+a_{\\text{in}}\\sin{(wt)}+0.25] \\\\[1.5ex]\n",
    "& &=& V_{DD} - \\kappa R_D [\\frac{{a_{\\text{in}}}^2}{2}(1-cos(2wt))+a_{\\text{in}}\\sin{(wt)}+0.25] \\\\[1.5ex]\n",
    "& &=& V_{DD} - \\kappa R_D \\frac{{a_{\\text{in}}}^2}{2}+\\kappa R_D \\frac{{a_{\\text{in}}}^2}{2}\\cos(2wt))-\\kappa R_D a_{\\text{in}}\\sin{(wt)}- \\kappa R_D 0.25 \\\\[1.5ex]\n",
    "& &=& (V_{DD} - \\kappa R_D (\\frac{{a_{\\text{in}}}^2}{2}+0.25))-\\kappa R_D a_{\\text{in}}\\sin{(wt)}+\\kappa R_D \\frac{{a_{\\text{in}}}^2}{2}\\cos(2wt)) \\\\[1.5ex]\n",
    "& &=& \\text{DC + fundamental sinusioid + 2nd harmonic} \\\\[1.5ex]\n",
    "& a_1 &=&  -\\kappa R_D a_{\\text{in}} \\\\[1.5ex]\n",
    "& a_2 &=& \\kappa R_D \\frac{{a_{\\text{in}}}^2}{2}\n",
    "\\end{eqnarray}$\n",
    "\n"
   ]
  },
  {
   "cell_type": "markdown",
   "metadata": {},
   "source": [
    "**Part B**\n",
    "\n",
    "$\\begin{eqnarray}\n",
    "& \\frac{a_2}{a_1} &=& \\frac{\\kappa R_D \\frac{{a_{\\text{in}}}^2}{2}}{-\\kappa R_D a_{\\text{in}}} &=& \\frac{-a_{\\text{in}}}{2} \\\\[1.5ex]\n",
    "& &=& \\frac{-a_{\\text{in}}}{2} \\Bigg|_{1\\text{mV}} &=& -0.5\\text{mV} \\\\[1ex]\n",
    "& &=& \\frac{-a_{\\text{in}}}{2} \\Bigg|_{10\\text{mV}} &=& -5\\text{mV}\n",
    "\\end{eqnarray}$"
   ]
  },
  {
   "cell_type": "code",
   "execution_count": null,
   "metadata": {},
   "outputs": [],
   "source": [
    "\n",
    "\n"
   ]
  }
 ],
 "metadata": {
  "kernelspec": {
   "display_name": "Python 3",
   "language": "python",
   "name": "python3"
  },
  "language_info": {
   "codemirror_mode": {
    "name": "ipython",
    "version": 3
   },
   "file_extension": ".py",
   "mimetype": "text/x-python",
   "name": "python",
   "nbconvert_exporter": "python",
   "pygments_lexer": "ipython3",
   "version": "3.7.4"
  }
 },
 "nbformat": 4,
 "nbformat_minor": 2
}
