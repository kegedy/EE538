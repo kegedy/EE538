{
 "cells": [
  {
   "cell_type": "markdown",
   "metadata": {},
   "source": [
    "# Assignment 05\n",
    "EE 538 Spring 2020 <br>\n",
    "Analog Circuits for Sensor Systems <br>\n",
    "University of Washington Electrical & Computer Engineering <br>\n",
    "\n",
    "Due: May 9, 2020 <br>\n",
    "Author: Kevin Egedy"
   ]
  },
  {
   "cell_type": "code",
   "execution_count": 2,
   "metadata": {},
   "outputs": [],
   "source": [
    "# Imports\n",
    "import os\n",
    "import sys\n",
    "import cmath\n",
    "import math\n",
    "import matplotlib.pyplot as plt\n",
    "import matplotlib\n",
    "import numpy as np\n",
    "import pandas as pd\n",
    "import ltspice\n",
    "import sympy as sp\n",
    "from scipy import signal\n",
    "%matplotlib inline\n",
    "from IPython.core.interactiveshell import InteractiveShell\n",
    "InteractiveShell.ast_node_interactivity = \"all\""
   ]
  },
  {
   "cell_type": "code",
   "execution_count": 6,
   "metadata": {},
   "outputs": [],
   "source": [
    "def read_ltspice(file_name,ftype='trans'):\n",
    "    cols = []\n",
    "    arrs = []\n",
    "    with open(file_name, 'r',encoding='utf-8') as data:\n",
    "        for i,line in enumerate(data):\n",
    "            if i==0:\n",
    "                cols = line.split()\n",
    "                arrs = [[] for _ in cols]\n",
    "                continue\n",
    "            parts = line.split()\n",
    "            for j,part in enumerate(parts):\n",
    "                arrs[j].append(part)\n",
    "    df = pd.DataFrame(arrs,dtype='float64')\n",
    "    df = df.T\n",
    "    df.columns = cols\n",
    "    if ftype=='trans':\n",
    "        return df\n",
    "    elif ftype=='ac':\n",
    "        for col in cols:\n",
    "            if df[col].str.contains(',').all():\n",
    "                df['Mag'] = df[col].apply(lambda x: x.split(',')[0])\n",
    "                df['Mag'] = df['Mag'].apply(lambda x: x[1:-2])\n",
    "                df['Mag'] = df['Mag'].astype('float64')\n",
    "                df['Phase'] = df[col].apply(lambda x: x.split(',')[1])\n",
    "                df['Phase'] = df['Phase'].apply(lambda x: x[0:-2])\n",
    "                df['Phase'] = df['Phase'].astype('float64')\n",
    "        return df\n",
    "    else:\n",
    "        print('invalid ftype')"
   ]
  },
  {
   "cell_type": "markdown",
   "metadata": {},
   "source": [
    "<img src=\"images/HW05Q1.png\" width=\"600\">"
   ]
  },
  {
   "cell_type": "markdown",
   "metadata": {},
   "source": [
    "**Differential Amplifier Stage**\n",
    "\n",
    "$\\begin{eqnarray}\n",
    "&& Z_{\\text{in}} &=& \\frac{\\Delta V_{id}}{\\Delta(I_{-}-I^{+})}&=&\n",
    "R_i(1+\\frac{R_i}{R_f})\n",
    "\\end{eqnarray}$"
   ]
  },
  {
   "cell_type": "code",
   "execution_count": null,
   "metadata": {},
   "outputs": [],
   "source": []
  },
  {
   "cell_type": "markdown",
   "metadata": {},
   "source": [
    "<img src=\"images/HW05Q2.png\" width=\"600\">"
   ]
  },
  {
   "cell_type": "markdown",
   "metadata": {},
   "source": [
    "**Instrumentation Amplifier Stage**\n",
    "\n",
    "$\\begin{eqnarray}\n",
    "&& A_{v_{d1}} &=& \\frac{V_{o_d}}{V_{i_d}} &=& 1 + \\frac{R_{f_p}+R_{f_m}}{R_G} \\\\\n",
    "&& A_{v_{cm1}} &=& \\frac{V_0}{V_{i_{cm}}} &=& 1 \\\\\n",
    "&& \\text{CMMR} &=& \\frac{A_{v_{d1}}}{A_{v_{cm1}}} &=& 1 + \\frac{R_f}{R_G}\n",
    "\\end{eqnarray}$"
   ]
  },
  {
   "cell_type": "code",
   "execution_count": null,
   "metadata": {},
   "outputs": [],
   "source": []
  }
 ],
 "metadata": {
  "kernelspec": {
   "display_name": "Python 3",
   "language": "python",
   "name": "python3"
  },
  "language_info": {
   "codemirror_mode": {
    "name": "ipython",
    "version": 3
   },
   "file_extension": ".py",
   "mimetype": "text/x-python",
   "name": "python",
   "nbconvert_exporter": "python",
   "pygments_lexer": "ipython3",
   "version": "3.7.4"
  }
 },
 "nbformat": 4,
 "nbformat_minor": 2
}
