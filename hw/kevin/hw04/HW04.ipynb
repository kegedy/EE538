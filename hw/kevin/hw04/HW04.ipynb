{
 "cells": [
  {
   "cell_type": "markdown",
   "metadata": {},
   "source": [
    "# Assignment 04\n",
    "EE 538 Spring 2020 <br>\n",
    "Analog Circuits for Sensor Systems <br>\n",
    "University of Washington Electrical & Computer Engineering <br>\n",
    "\n",
    "Due: May 2, 2020 <br>\n",
    "Author: Kevin Egedy"
   ]
  },
  {
   "cell_type": "code",
   "execution_count": 1,
   "metadata": {},
   "outputs": [],
   "source": [
    "# Imports\n",
    "import os\n",
    "import sys\n",
    "import cmath\n",
    "import math\n",
    "import matplotlib.pyplot as plt\n",
    "import matplotlib\n",
    "import numpy as np\n",
    "import pandas as pd\n",
    "import ltspice\n",
    "import sympy as sp\n",
    "from scipy import signal\n",
    "%matplotlib inline\n",
    "from IPython.core.interactiveshell import InteractiveShell\n",
    "InteractiveShell.ast_node_interactivity = \"all\""
   ]
  },
  {
   "cell_type": "code",
   "execution_count": 2,
   "metadata": {},
   "outputs": [],
   "source": [
    "def read_ltspice_tran(file_name):\n",
    "    cols = []\n",
    "    arrs = []\n",
    "    with open(file_name, 'r',encoding='utf-8') as data:\n",
    "        for i,line in enumerate(data):\n",
    "            if i==0:\n",
    "                cols = line.split()\n",
    "                arrs = [[] for _ in cols]\n",
    "                continue\n",
    "            parts = line.split()\n",
    "            for j,part in enumerate(parts):\n",
    "                arrs[j].append(part)\n",
    "    df = pd.DataFrame(arrs,dtype='float64')\n",
    "    df = df.T\n",
    "    df.columns = cols\n",
    "    return df"
   ]
  },
  {
   "cell_type": "code",
   "execution_count": 3,
   "metadata": {},
   "outputs": [],
   "source": [
    "def RoundNonZero(num, place, rnd='ceil'):\n",
    "    # Requires numpy library\n",
    "    # Examples:\n",
    "    #   RoundNonZero(0.0004512,1,'floor') -> 0.0045\n",
    "    #   RoundNonZero(0.0004512,1,'ceil') -> 0.0046\n",
    "    #\n",
    "    tmp = num\n",
    "    mag = 0\n",
    "    \n",
    "    if rnd=='ceil':\n",
    "        while(abs(tmp)<1):\n",
    "            tmp*=10\n",
    "            mag+=1\n",
    "        for i in range(place):\n",
    "            tmp*=10\n",
    "            mag+=1\n",
    "        return int(np.ceil([tmp])[0])/(10**(mag)) \n",
    "    \n",
    "    if rnd=='floor':\n",
    "        while(abs(tmp)<1):\n",
    "            tmp*=10\n",
    "            mag+=1\n",
    "        for i in range(place):\n",
    "            tmp*=10\n",
    "            mag+=1\n",
    "        return int(np.floor([tmp])[0])/(10**(mag))\n",
    "    \n",
    "    else:\n",
    "        raise ValueError('Invalid argument')\n",
    "        return None"
   ]
  },
  {
   "cell_type": "markdown",
   "metadata": {},
   "source": [
    "*Reference: https://inst.eecs.berkeley.edu/~ee105/fa14/lectures/Lecture04-Non-ideal%20Op%20Amps%20(Feedback%20circuit).pdf*"
   ]
  },
  {
   "cell_type": "markdown",
   "metadata": {},
   "source": [
    "<img src=\"images/HW04Q1.png\" width=\"600\">"
   ]
  },
  {
   "cell_type": "markdown",
   "metadata": {},
   "source": [
    "**Feedback** <br>\n",
    "*Opamp inputs are only exactly equal if the open loop gain is infinite* \n",
    "<img src=\"images/feedback.png\" width=\"200\">\n",
    "\n",
    "$\\begin{eqnarray}\n",
    "& V_{\\text{out}} &=& A_v v_{\\text{in}} \\Bigg|_{v_{\\text{in}} = v^{+}-v^{-}} \\\\[0.5em]\n",
    "& A_{CL} &=& \\frac{V_o}{V_i} = \\frac{A_{OL}}{1+\\beta A_{OL}} \\\\[0.5em]\n",
    "\\end{eqnarray}$\n",
    "\n",
    "<hr>\n",
    "\n",
    "**Output Resistance**<br>\n",
    "*Same for Inverting and Non-inverting* \n",
    "<img src=\"images/output_resistance.png\" width=\"800\">\n",
    "\n",
    "<hr>\n",
    "\n",
    "**Input Resistance: Inverting**<br>\n",
    "<img src=\"images/input_resistance_inverting.png\" width=\"800\">\n",
    "\n",
    "\n",
    "<hr>\n",
    "\n",
    "**Input Resistance: Non-inverting**<br>\n",
    "<img src=\"images/input_resistance_noninverting.png\" width=\"800\">\n",
    "\n",
    "<hr>"
   ]
  },
  {
   "cell_type": "markdown",
   "metadata": {},
   "source": [
    "**Part A**\n",
    "\n",
    "**Inverting**\n",
    "\n",
    "$\\begin{eqnarray}\n",
    "&& \\frac{V_{\\text{out}}}{V_{\\text{in}}} &=& \\frac{A_{OL}}{1+\\beta A_{OL}}\\Bigg|_{A_{OL}\\rightarrow \\infty} &=& \\frac{1}{\\beta} &=& \\frac{-R_2}{R_1} \\\\[0.5em]\n",
    "&& R_{\\text{out}} &=& 0\\\\[0.5em]\n",
    "&& R_{\\text{in}} &=& \\infty \\\\[0.5em]\n",
    "\\end{eqnarray}$\n",
    "\n",
    "**Non-inverting**\n",
    "\n",
    "$\\begin{eqnarray}\n",
    "&& \\frac{V_{\\text{out}}}{V_{\\text{in}}} &=& \\frac{A_{OL}}{1+\\beta A_{OL}}\\Bigg|_{A_{OL}\\rightarrow \\infty} &=& \\frac{1}{\\beta} &=& 1 + \\frac{R_2}{R_1} \\\\[0.5em]\n",
    "&& R_{\\text{out}} &=& 0\\\\[0.5em]\n",
    "&& R_{\\text{in}} &=& \\infty \\\\[0.5em]\n",
    "\\end{eqnarray}$\n",
    "\n",
    "<hr>"
   ]
  },
  {
   "cell_type": "markdown",
   "metadata": {},
   "source": [
    "**Part B**"
   ]
  },
  {
   "cell_type": "markdown",
   "metadata": {},
   "source": [
    "$R_{\\text{out}}$ Calculations\n",
    "\n",
    "$\\begin{eqnarray}\n",
    "&& i_{\\text{test}} &=& i_2 + i_3 \\\\[0.5em]\n",
    "&& i_2 &=& \\frac{v_{\\text{test}}}{R_1+R_2} \\\\[0.5em]\n",
    "&& i_3 &=& \\frac{v_{\\text{test}}-Av_{id}}{R_0} \\\\[0.5em]\n",
    "&& v_{id} &=& -v_A = \\frac{-R_1}{R_1+R_2}v_{\\text{test}} = -\\beta v_{\\text{test}} \\\\[0.5em]\n",
    "&& i_{\\text{test}} &=& \\frac{v_{\\text{test}}}{R_1+R_2} + \\frac{v_{\\text{test}}+A\\beta v_{\\text{test}}}{R_0} &=& \n",
    "v_{\\text{test}}(\\frac{1}{R_1+R_2} + \\frac{1+A\\beta}{R_0})\\\\\n",
    "&& Z_1 \\parallel Z_2 &=& \\frac{1}{\\frac{1}{Z_1}+\\frac{1}{Z_2}} \\\\[0.5em]\n",
    "&& R_{\\text{out}} = \\frac{v_{\\text{test}}}{i_{\\text{test}}} &=& \n",
    "\\frac{1}{\\frac{1}{R_1+R_2} + \\frac{1+A\\beta}{R_0}} \\\\[0.5em]\n",
    "&& R_{\\text{out}} &=& (R_1+R_2) \\parallel \\frac{R_0}{1+A\\beta} \n",
    " \\\\[0.5em]\n",
    "&& && (R_1+R_2) \\gg \\frac{R_0}{1+A\\beta} \\Bigg|_{A\\rightarrow \\infty} \\\\[0.5em]\n",
    "&& R_{\\text{out}} &\\approx& \\frac{R_0}{1+A\\beta} \\Bigg|_{A\\rightarrow \\infty} = 0\n",
    "\\end{eqnarray}$"
   ]
  },
  {
   "cell_type": "markdown",
   "metadata": {},
   "source": [
    "Non-inverting $R_{\\text{in}}$ Calculations\n",
    "\n",
    "$\\begin{eqnarray}\n",
    "&& v_{id} &=& v_{\\text{test}} - v_A \\\\[0.5em]\n",
    "&& i_{\\text{test}} &=& \\frac{v_{\\text{test}}-v_A}{R_i} \\\\[0.5em]\n",
    "&& \\frac{V_{\\text{out}}-v_A}{R_2} &=& \\frac{v_A}{R_1} \\\\[0.5em]\n",
    "&& v_A &=& \\frac{R_1}{R_1+R_2}V_{\\text{out}} = \\beta V_{\\text{out}} \\\\[0.5em]\n",
    "&& &=& A \\beta V_{id} \\\\[0.5em]\n",
    "&& &=& A \\beta (v_{\\text{test}}-v_A) \\\\[0.5em]\n",
    "&& v_A + A \\beta v_A &=& A \\beta v_{\\text{test}} \\\\[0.5em]\n",
    "&& v_A(1 + A \\beta) &=& A \\beta v_{\\text{test}} \\\\[0.5em]\n",
    "&& v_A &=& \\frac{A \\beta}{1 + A \\beta} v_{\\text{test}} \\\\[0.5em]\n",
    "&& i_{\\text{test}} &=& \\frac{v_{\\text{test}}-v_A}{R_i} \\\\[0.5em]\n",
    "&& &=& \\frac{v_{\\text{test}}-\\frac{A \\beta}{1 + A \\beta} v_{\\text{test}}}{R_i} \\\\[0.5em]\n",
    "&& &=& \\frac{v_{\\text{test}}(1-\\frac{A \\beta}{1 + A \\beta} )}{R_i} \\\\[0.5em]\n",
    "&& &=& \\frac{v_{\\text{test}}\\frac{1}{1 + A \\beta}}{R_i} \\\\[0.5em]\n",
    "&& &=& \\frac{v_{\\text{test}}}{R_i(1 + A \\beta)} \\\\[0.5em]\n",
    "&& R_{\\text{out}} = \\frac{v_{\\text{test}}}{i_{\\text{test}}} &=& R_i(1 + A \\beta) \\Bigg|_{A\\rightarrow \\infty} = \\infty\n",
    "\\end{eqnarray}$\n",
    "\n",
    "Inverting $R_{\\text{in}}$ Calculations\n",
    "\n",
    "$\\begin{eqnarray}\n",
    "&& R_i &=& \\frac{v_{\\text{test}}}{i_{\\text{test}}}\n",
    "\\end{eqnarray}$\n",
    "\n",
    "<hr>"
   ]
  },
  {
   "cell_type": "markdown",
   "metadata": {},
   "source": [
    "\n",
    "\n",
    "**Inverting Summary**<br>\n",
    "\n",
    "$\\begin{eqnarray}\n",
    "&& \\frac{V_{\\text{out}}}{V_{\\text{in}}} &=& \\frac{-R_2}{R_1}(\\frac{A\\beta}{1+A\\beta}) \\Bigg|_{\\beta = \\frac{R_1}{R_1+R_2}, A\\rightarrow \\infty} \\approx \\frac{-R_2}{R_1}\\\\[0.5em]\n",
    "&& R_{\\text{out}} &=& (R_1+R_2) \\parallel \\frac{R_0}{1+A\\beta} \\Bigg|_{A\\rightarrow \\infty} \\approx 0\\\\[0.5em]\n",
    "&& R_{\\text{in}} &=& R_i(1 + A \\beta) \\Bigg|_{A\\rightarrow \\infty} = \\infty \\\\[0.5em]\n",
    "\\end{eqnarray}$\n",
    "\n",
    "**Non-inverting Summary**\n",
    "\n",
    "$\\begin{eqnarray}\n",
    "&& \\frac{V_{\\text{out}}}{V_{\\text{in}}} &=& (1+\\frac{R_2}{R_1})(\\frac{A\\beta}{1+A\\beta}) \\Bigg|_{\\beta = \\frac{R_1}{R_1+R_2}, A\\rightarrow \\infty} \\approx 1+\\frac{R_2}{R_1}\\\\[0.5em]\n",
    "&& R_{\\text{out}} &=& (R_1+R_2) \\parallel \\frac{R_0}{1+A\\beta} \\Bigg|_{A\\rightarrow \\infty} \\approx 0\\\\[0.5em]\n",
    "&& R_{\\text{in}} &=& \\infty \\\\[0.5em]\n",
    "\\end{eqnarray}$\n",
    "\n",
    "<hr>"
   ]
  },
  {
   "cell_type": "markdown",
   "metadata": {},
   "source": [
    "**Part C**\n",
    "\n",
    "$$\\frac{V_{\\text{in}}-v_{\\text{os}}}{R1} = \\frac{v_{\\text{os}}-V_{\\text{out}}}{R_2}$$\n",
    "\n",
    "Inverting Voltage Offset Calculations:\n",
    "\n",
    "$V_{\\text{out}} = \\frac{-R_2}{R_1}V_{\\text{in}} + v_{\\text{os}}(1+\\frac{R_2}{R_1})$\n",
    "\n",
    "Non-inverting Voltage Offset Calculations: \n",
    "\n",
    "$V_{\\text{out}} = \\frac{-R_2}{R_1}V_{\\text{in}} + v_{\\text{os}}(1+\\frac{R_2}{R_1})$\n",
    "\n",
    "<hr>"
   ]
  },
  {
   "cell_type": "markdown",
   "metadata": {},
   "source": [
    "**Part D**\n",
    "\n",
    "Inverting Input Bias Calculations: $V_{\\text{out}} = I_B R_2$\n",
    "\n",
    "Non-inverting Input Bias Calculations: $V_{\\text{out}} = I_B R_2$"
   ]
  },
  {
   "cell_type": "markdown",
   "metadata": {},
   "source": [
    "<img src=\"images/HW04Q2.png\" width=\"600\">"
   ]
  },
  {
   "cell_type": "markdown",
   "metadata": {},
   "source": [
    "<img src=\"images/laplace.png\" width=\"600\">"
   ]
  },
  {
   "cell_type": "markdown",
   "metadata": {},
   "source": [
    "**Part A**\n",
    "\n",
    "$\\begin{eqnarray}\n",
    "&&\\frac{V_{\\text{out}}-V^{-}}{R\\parallel C}\\Bigg|_{V^{-}=0} &=& i_{\\text{in}} \\\\[0.5em]\n",
    "&&\\frac{V_{\\text{out}}}{i_{\\text{in}}} &=& R\\parallel C \\\\[0.5em]\n",
    "&&\\frac{V_{\\text{out}}}{i_{\\text{in}}} &=& \\frac{R}{1+sRC} \\\\[0.5em]\n",
    "&&\\frac{V_{\\text{out}}}{i_{\\text{in}}} &=& \\frac{R}{1+s\\tau}, \\tau = RC\n",
    "\\end{eqnarray}$\n"
   ]
  },
  {
   "cell_type": "markdown",
   "metadata": {},
   "source": [
    "**Part B**\n",
    "\n",
    "$\\begin{eqnarray}\n",
    "&& \\mathcal{L}\\{\\frac{V_{\\text{out}}}{i_{\\text{in}}} \\} \n",
    "&=& \\frac{R}{1+s\\tau} \\\\[0.5em]\n",
    "&& &=& R\\frac{1}{\\frac{\\tau+s}{\\tau}} \\\\[0.5em]\n",
    "&& &=& R\\frac{\\tau}{\\tau+s} \\\\[0.5em]\n",
    "&& &=& R\\tau \\cdot \\frac{1}{\\tau+s} \\\\[0.5em]\n",
    "&& \\mathcal{L}^{-1} \\{\\frac{V_{\\text{out}}}{i_{\\text{in}}} \\} &=& R\\tau \\cdot e^{-\\tau t} \\\\[0.5em]\n",
    "&& i_{\\text{in}} &=& i_{\\text{max}}(u(t)-u(t-t_{\\text{on}})) \\\\[0.5em]\n",
    "&&  \\mathcal{L}\\{i_{\\text{in}} \\} &=& i_{\\text{max}} \\cdot \\frac{1}{s} (1-e^{-t_{\\text{on}}s})\\\\[0.5em]\n",
    "&& V_{\\text{out}} &=& \\mathcal{L}\\{\\frac{V_{\\text{out}}}{i_{\\text{in}}} \\} \\cdot \\mathcal{L}\\{i_{\\text{in}} \\} \\\\[0.5em]\n",
    "&& &=& R\\tau i_{\\text{max}} \\cdot \\frac{1}{s} (1-e^{-t_{\\text{on}}s}) \\frac{1}{\\tau+s} \\\\[0.5em]\n",
    "&& \\mathcal{L}^{-1}\\{ V_{\\text{out}} \\} &=& R\\tau i_{\\text{max}} \\cdot (u(t)-u(t-t_{\\text{on}})) \\cdot e^{-\\tau t} \\\\[0.5em]\n",
    "&& \\mathcal{L}^{-1}\\{ V_{\\text{out}} \\} \\Bigg|_{t=t_{\\text{on}}}&=& R\\tau i_{\\text{max}} e^{-\\tau t},  \\tau = RC \\\\[0.5em]\n",
    "\\end{eqnarray}$"
   ]
  },
  {
   "cell_type": "code",
   "execution_count": null,
   "metadata": {},
   "outputs": [],
   "source": []
  },
  {
   "cell_type": "markdown",
   "metadata": {},
   "source": [
    "<img src=\"images/HW04Q3.png\" width=\"600\">"
   ]
  },
  {
   "cell_type": "markdown",
   "metadata": {},
   "source": [
    "*Reference: https://ocw.mit.edu/courses/electrical-engineering-and-computer-science/6-071j-introduction-to-electronics-signals-and-measurement-spring-2006/lecture-notes/23_op_amps2.pdf*"
   ]
  },
  {
   "cell_type": "markdown",
   "metadata": {},
   "source": [
    "**Part A**\n",
    "\n",
    "$\\begin{eqnarray}\n",
    "&& V_{\\text{out2}} &=& V_{\\text{ip}}\\frac{R_2}{R_1+R_2}(1+\\frac{R_4}{R_3}) \\\\[0.5em]\n",
    "&& V_{\\text{out1}} &=& -V_{\\text{im}}\\frac{R_4}{R_3} \\\\[0.5em]\n",
    "&& V_{\\text{out}} &=& V_{\\text{out2}}+ V_{\\text{out1}} \\\\[0.5em]\n",
    "&& &=& V_{\\text{ip}}\\frac{R_2}{R_1+R_2}(1+\\frac{R_4}{R_3})\n",
    "-V_{\\text{im}}\\frac{R_4}{R_3} \\\\[0.5em]\n",
    "&& \\text{Note:}&& \\text{weight of each signal must be the same} \\\\[0.5em]\n",
    "&& && \\frac{R_2}{R_1+R_2}(1+\\frac{R_4}{R_3}) = \\frac{R_4}{R_3} \\rightarrow \\frac{R_2}{R_1} = \\frac{R_4}{R_3}\\\\[0.5em]\n",
    "&& V_{\\text{out}} &=& \\frac{R_2}{R_1}(V_{\\text{ip}}-V_{\\text{ipm}}) \\\\[0.5em]\n",
    "\\end{eqnarray}$\n",
    "\n",
    "\n",
    "Find $\\beta$\n",
    "\n",
    "$\\begin{eqnarray}\n",
    "&& \\frac{V_{\\text{out}}}{V_{\\text{in}}} &=& \\frac{A_{OL}}{1+\\beta A_{OL}}\\Bigg|_{A_{OL}\\rightarrow \\infty} \\\\[0.5em]\n",
    "&& &\\approx& \\frac{1}{\\beta} = \\frac{R_2}{R_1}\\Bigg|_{R_2=10K, R_1=10K} = 1\\\\[0.5em]\n",
    "\\end{eqnarray}$\n",
    "\n",
    "Frequency Response\n",
    "\n",
    "$\\begin{eqnarray}\n",
    "&& A_{OL}(s) = \\frac{A_0}{1+s\\tau }  \\\\[0.5em]\n",
    "&& f_{3\\text{dB},\\text{OL}} = \\frac{1}{\\tau} = \\frac{f_T}{A_0} = \n",
    "\\frac{10\\cdot 10^6}{10^5} = 100 \\text{Hz}\n",
    "\\end{eqnarray}$"
   ]
  },
  {
   "cell_type": "code",
   "execution_count": 15,
   "metadata": {},
   "outputs": [
    {
     "data": {
      "image/png": "[encoded data removed]",
      "text/plain": [
       "<Figure size 576x576 with 2 Axes>"
      ]
     },
     "metadata": {
      "needs_background": "light"
     },
     "output_type": "display_data"
    }
   ],
   "source": [
    "f1 = np.linspace(1e-2,1e3,100000)\n",
    "f2 = np.linspace(1e3,1e8,100000)\n",
    "f = np.concatenate((f1,f2))\n",
    "w = 2*np.pi*f\n",
    "s = 1j*w\n",
    "A0 = 1e5\n",
    "beta = 1\n",
    "fT = 10e6\n",
    "tau = A0/fT\n",
    "H = A0/(1+s*tau)\n",
    "\n",
    "#Find 3dB\n",
    "mag = 20*np.log10(abs(H))\n",
    "x0 = np.where(mag<=(max(mag)-3))[0][0]\n",
    "label0 = \"{:.2f}\".format(f[x0])\n",
    "x1 = np.where(mag<=0)[0][0]\n",
    "label1 = \"{:.2e}\".format(f[x1])\n",
    "#print(f\"3dB frequency at {label0}\")\n",
    "#print(f\"fT frequency at {label1}\")\n",
    "\n",
    "#Plot\n",
    "fig, axs = plt.subplots(2,figsize=(8,8))\n",
    "axs[0].set_title('Open Loop Frequency Response Approximation')\n",
    "axs[0].semilogx(f, 20*np.log10(abs(H)))\n",
    "#axs[0].scatter(f[x0], mag[x0],label=f\"3dB: {label0}Hz\")\n",
    "#axs[0].scatter(f[x1], mag[x1],label=f\"fT: {label1}Hz\")\n",
    "axs[0].set_ylabel('Magnitude [dB]')\n",
    "axs[0].set_xticklabels([])\n",
    "axs[0].grid()\n",
    "#axs[0].legend()\n",
    "axs[1].semilogx(f, np.angle(H,deg=True))\n",
    "axs[1].set_ylabel('Phase [deg]')\n",
    "axs[1].set_xlabel('Frequency [Hz]')\n",
    "axs[1].set_xticklabels([])\n",
    "axs[1].grid()\n",
    "#axs[1].legend()\n",
    "plt.show();"
   ]
  },
  {
   "cell_type": "markdown",
   "metadata": {},
   "source": [
    "**Part B**\n",
    "\n",
    "Frequency Response\n",
    "\n",
    "$\\begin{eqnarray}\n",
    "&& A_{CL}(s) &=& \\frac{A_0}{1+s\\tau + \\beta A_0}  \\\\[0.5em]\n",
    "&& f_{3\\text{dB},\\text{CL}} &=& \\frac{\\beta A_0}{\\tau} = \\beta f_T \\\\[0.5em]\n",
    "&& &&\\beta f_T \\Bigg|_{\\beta = 1} = 10\\cdot 10^6 = 10^7 \\text{Hz} \n",
    "\\end{eqnarray}$"
   ]
  },
  {
   "cell_type": "code",
   "execution_count": 19,
   "metadata": {},
   "outputs": [
    {
     "data": {
      "image/png": "[encoded data removed]",
      "text/plain": [
       "<Figure size 576x432 with 2 Axes>"
      ]
     },
     "metadata": {
      "needs_background": "light"
     },
     "output_type": "display_data"
    }
   ],
   "source": [
    "f1 = np.linspace(1e-2,1e3,100000)\n",
    "f2 = np.linspace(1e3,1e8,100000)\n",
    "f = np.concatenate((f1,f2))\n",
    "s = 2j*np.pi*f\n",
    "A0 = 1e5\n",
    "beta = 1\n",
    "fT = 10e6\n",
    "tau = A0/fT\n",
    "H = A0/(1+s*tau + beta*A0)\n",
    "\n",
    "#Find 3dB\n",
    "mag = 20*np.log10(abs(H))\n",
    "x0 = np.where(mag<=(max(mag)-3))[0][0]\n",
    "label = \"{:.2e}\".format(f[x0])\n",
    "#print(f\"3dB frequency at {label}\")\n",
    "\n",
    "#Plot\n",
    "fig, axs = plt.subplots(2,figsize=(8,6))\n",
    "axs[0].set_title('Closed Loop Frequency Response Approximation')\n",
    "axs[0].semilogx(f, 20*np.log10(abs(H)))\n",
    "#//axs[0].scatter(f[x0], mag[x0],label=f\"3dB: {label}Hz\")\n",
    "axs[0].set_ylabel('Magnitude [dB]')\n",
    "axs[0].set_xticklabels([])\n",
    "axs[0].grid()\n",
    "#axs[0].legend()\n",
    "axs[1].semilogx(f, np.angle(H,deg=True))\n",
    "axs[1].set_ylabel('Phase [deg]')\n",
    "axs[1].set_xlabel('Frequency [Hz]')\n",
    "axs[1].set_xticklabels([])\n",
    "axs[1].grid()\n",
    "#axs[1].legend()\n",
    "plt.show();"
   ]
  },
  {
   "cell_type": "markdown",
   "metadata": {},
   "source": [
    "**Part C**\n",
    "\n",
    "$\\begin{eqnarray}\n",
    "R_{im} &=& R_3 + (R_i \\parallel \\frac{R_4}{1+A}) \\approx R_3 = 10K\\Omega \\\\[0.5em]\n",
    "R_{ip} &=& R_1 + (R_2 \\parallel \\infty) = R_1 + R_2 = 20K\\Omega\n",
    "\\end{eqnarray}$"
   ]
  },
  {
   "cell_type": "markdown",
   "metadata": {},
   "source": [
    "**Part D**\n",
    "\n"
   ]
  },
  {
   "cell_type": "code",
   "execution_count": null,
   "metadata": {},
   "outputs": [],
   "source": []
  }
 ],
 "metadata": {
  "kernelspec": {
   "display_name": "Python 3",
   "language": "python",
   "name": "python3"
  },
  "language_info": {
   "codemirror_mode": {
    "name": "ipython",
    "version": 3
   },
   "file_extension": ".py",
   "mimetype": "text/x-python",
   "name": "python",
   "nbconvert_exporter": "python",
   "pygments_lexer": "ipython3",
   "version": "3.7.4"
  }
 },
 "nbformat": 4,
 "nbformat_minor": 2
}
