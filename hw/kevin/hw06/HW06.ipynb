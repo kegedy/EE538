{
 "cells": [
  {
   "cell_type": "markdown",
   "metadata": {},
   "source": [
    "# Assignment 06\n",
    "EE 538 Spring 2020 <br>\n",
    "Analog Circuits for Sensor Systems <br>\n",
    "University of Washington Electrical & Computer Engineering <br>\n",
    "\n",
    "Due: May 23, 2020 <br>\n",
    "Author: Kevin Egedy"
   ]
  },
  {
   "cell_type": "code",
   "execution_count": 1,
   "metadata": {},
   "outputs": [],
   "source": [
    "# Imports\n",
    "import os\n",
    "import sys\n",
    "import cmath\n",
    "import math\n",
    "import matplotlib.pyplot as plt\n",
    "import matplotlib\n",
    "import numpy as np\n",
    "import pandas as pd\n",
    "import ltspice\n",
    "import sympy as sp\n",
    "from scipy import signal\n",
    "%matplotlib inline\n",
    "from IPython.core.interactiveshell import InteractiveShell\n",
    "InteractiveShell.ast_node_interactivity = \"all\""
   ]
  },
  {
   "cell_type": "markdown",
   "metadata": {},
   "source": [
    "**Input-Referred Voltage Noise**\n",
    "\n",
    "<img src=\"images/input_voltage_noise.png\" width=\"300\">\n",
    "\n",
    "<hr>"
   ]
  },
  {
   "cell_type": "markdown",
   "metadata": {},
   "source": [
    "**Input Resistor Noise**\n",
    "\n",
    "<img src=\"images/input_resistor_noise.png\" width=\"300\">\n",
    "\n",
    "$$\\begin{eqnarray}\n",
    "&& e_{n1,out} &=& \\frac{-R_2}{R_1}e_{n1} \\\\[0.5em]\n",
    "&& e_{n1,out}^2 &=& (\\frac{R_2}{R_1})^2 4kTR_1 && \\frac{V^2}{\\text{Hz}}\n",
    "\\end{eqnarray}$$\n",
    "\n",
    "<hr>"
   ]
  },
  {
   "cell_type": "markdown",
   "metadata": {},
   "source": [
    "**Feedback Resistor Noise**\n",
    "\n",
    "<img src=\"images/feedback_resistor_noise.png\" width=\"300\">\n",
    "\n",
    "$$\\begin{eqnarray}\n",
    "&& e_{n2,out} &=& e_{n2} \\\\[0.5em]\n",
    "&& e_{n2,out}^2 &=& 4kTR_2 && \\frac{V^2}{\\text{Hz}}\n",
    "\\end{eqnarray}$$\n",
    "\n",
    "<hr>"
   ]
  },
  {
   "cell_type": "markdown",
   "metadata": {},
   "source": [
    "**Opamp Noise**\n",
    "\n",
    "<img src=\"images/opamp_noise.png\" width=\"300\">\n",
    "\n",
    "$$\\begin{eqnarray}\n",
    "&& e_{n,out} &=& (1+\\frac{R_2}{R_1})e_{na} \\\\[0.5em]\n",
    "&& e_{na,out}^2 &=& (1+\\frac{R_2}{R_1})^2 e_{na}^2 && \\frac{V^2}{\\text{Hz}}\n",
    "\\end{eqnarray}$$\n",
    "\n",
    "<hr>"
   ]
  },
  {
   "cell_type": "markdown",
   "metadata": {},
   "source": [
    "<img src=\"images/HW06Q1.png\" width=\"700\">"
   ]
  },
  {
   "cell_type": "markdown",
   "metadata": {},
   "source": [
    "**Part A**\n",
    "\n",
    "**Given**: $e_n = \\frac{10nV}{\\sqrt{\\text{Hz}}}, i_n = \\frac{1pA}{\\sqrt{\\text{Hz}}}, f_T = 10\\text{MHz}, kT = 4.1145e-21$\n",
    "\n",
    "$\\begin{eqnarray}\n",
    "&& A_V &=& \\frac{1}{\\beta} = \\frac{-R_f}{R_i} = 10 \\\\[0.5em]\n",
    "&& e_{n,out}^2 &=& (\\frac{R_f}{R_i})^2 4kTR_i + 4kTR_f + (1+\\frac{R_f}{R_i})^2 e_n^2 + (i_n R_f)^2 \\\\[0.5em]\n",
    "&& e_{n,out} &=& \\sqrt{(\\frac{R_f}{R_i})^2 4kTR_i + 4kTR_f + \n",
    "(1+\\frac{R_f}{R_i})^2 e_n^2 + (i_n R_f)^2} \\\\[0.5em]\n",
    "&& e_{n,out} &=& 1.18365 \\cdot 10^{-7}  = 118.4 \\frac{nV}{\\sqrt{\\text{Hz}}} \\\\[0.5em]\n",
    "&& e_{n,in} &\\approx& \\frac{e_{n,out}}{1/\\beta} \\\\[0.5em]\n",
    "&& e_{n,in} &=& 1.18365 \\cdot 10^{-8}  = 11.84 \\frac{nV}{\\sqrt{\\text{Hz}}}\n",
    "\\end{eqnarray}$\n",
    "\n",
    "<hr>"
   ]
  },
  {
   "cell_type": "markdown",
   "metadata": {},
   "source": [
    "**Part B**\n",
    "\n",
    "$\\begin{eqnarray}\n",
    "&& A_V &=& \\frac{1}{\\beta} = \\frac{-R_f}{R_i} = 10 \\\\[0.5em]\n",
    "&& f_{ENB} &=& \\frac{\\pi}{2} f_{3dB}  = \\frac{\\pi}{2} \\beta f_T \n",
    "\\approx 157 \\cdot 10^6 \\text{Hz} \\\\[0.5em]\n",
    "&& v_{n,out(rms)} &=& \\sqrt{e_{n,out}^2 \\frac{\\pi}{2}\\beta f_T}  = \n",
    "   \\sqrt{e_{n,out}^2 f_{ENB}}\\\\[0.5em]\n",
    "&& v_{n,in(rms)} &\\approx& \\frac{v_{n,out(rms)}}{1/\\beta} \\\\[0.5em]\n",
    "&& &=& \\beta \\sqrt{e_{n,out}^2 \\frac{\\pi}{2}f_T} \\\\[0.5em]\n",
    "&& &=& \\frac{1}{10} \\sqrt{(1.18365 \\cdot 10^{-7})^2 (157 \\cdot 10^6)} =\n",
    "       0.0001483 = 148.3 \\mu V \\\\[0.5em]\n",
    "\\end{eqnarray}$\n",
    "\n",
    "<hr>"
   ]
  },
  {
   "cell_type": "markdown",
   "metadata": {},
   "source": [
    "**Part C**\n",
    "\n",
    "<img src=\"images/HW06Q1_Ltspice.png\" width=\"500\">\n",
    "\n",
    "<img src=\"images/totalRMSnoise.png\" width=\"300\">"
   ]
  },
  {
   "cell_type": "code",
   "execution_count": 2,
   "metadata": {},
   "outputs": [],
   "source": [
    "filepath = 'data/fb_amp_noise.txt'\n",
    "df = pd.read_csv(filepath)\n",
    "freq = df['frequency']\n",
    "mag1 = df['V(inoise)']\n",
    "mag2 = df['V(onoise)']"
   ]
  },
  {
   "cell_type": "code",
   "execution_count": 3,
   "metadata": {},
   "outputs": [
    {
     "data": {
      "image/png": "[encoded data removed]",
      "text/plain": [
       "<Figure size 720x360 with 1 Axes>"
      ]
     },
     "metadata": {
      "needs_background": "light"
     },
     "output_type": "display_data"
    }
   ],
   "source": [
    "#Plot\n",
    "fig, ax = plt.subplots(figsize=(10,5))\n",
    "ax.semilogx(freq, mag2)\n",
    "ax.set_xlabel('Frequency [Hz]')\n",
    "ax.set_ylabel('Voltage Noise [V/$\\sqrt{Hz}$]')\n",
    "ax.set_title('Inverting Amp Voltage Noise [V/$\\sqrt{Hz}$]')\n",
    "ax.ticklabel_format(style='sci', axis='y', scilimits=(-9,-9))\n",
    "ax.grid()\n",
    "#ax.legend()\n",
    "plt.show();"
   ]
  },
  {
   "cell_type": "markdown",
   "metadata": {},
   "source": [
    "<img src=\"images/HW06Q2.png\" width=\"700\">"
   ]
  },
  {
   "cell_type": "markdown",
   "metadata": {},
   "source": [
    "**Part A**\n",
    "\n",
    "[ADA4898](https://www.analog.com/media/en/technical-documentation/data-sheets/ADA4898-1_4898-2.pdf)\n",
    "[AD8691](https://www.analog.com/media/en/technical-documentation/data-sheets/AD8691_8692_8694.pdf)\n",
    "\n",
    "|             | ADA4898 | AD8691  |\n",
    "|------------:|---------|---------|\n",
    "| $\\beta$ (V/V) | 1     | 1       |\n",
    "| $i_n$ (pA)  | 2.4     | 0.05    |\n",
    "| $e_n$ (nA)  | 0.9     | 8       |\n",
    "| $f_{T}$ (MHz) | 65    | 10      |\n",
    "| $f_{3dB} = \\beta f_{T}$ | 65   | 10      |\n",
    "\n",
    "<img src=\"images/ADA4898_noise.png\" style=\"float: left;width=300\"><img>\n",
    "\n",
    "<img src=\"images/AD8691_noise.png\" style=\"float: right;width=300\"><img>\n"
   ]
  },
  {
   "cell_type": "markdown",
   "metadata": {},
   "source": [
    "$$\\begin{align}\n",
    "  \\begin{array}{ll}\n",
    "    \\text{Noise Bandwidth} \\\\\n",
    "    \\text{ADA4898: } f_{ENB} = \\frac{\\pi}{2} f_{3dB}  = 102 \\text{MHz} \\\\\n",
    "    \\text{AD8691: } f_{ENB} = \\frac{\\pi}{2} f_{3dB}  = 15.7 \\text{MHz}\n",
    "  \\end{array}\n",
    "\\end{align}$$"
   ]
  },
  {
   "cell_type": "code",
   "execution_count": 4,
   "metadata": {},
   "outputs": [],
   "source": [
    "filepath = 'data/ADA4898.txt'\n",
    "df = pd.read_csv(filepath)\n",
    "freq = df['frequency']\n",
    "mag1 = df['V(onoise)']"
   ]
  },
  {
   "cell_type": "code",
   "execution_count": 5,
   "metadata": {
    "scrolled": true
   },
   "outputs": [
    {
     "data": {
      "image/png": "[encoded data removed]",
      "text/plain": [
       "<Figure size 720x360 with 1 Axes>"
      ]
     },
     "metadata": {
      "needs_background": "light"
     },
     "output_type": "display_data"
    }
   ],
   "source": [
    "#Plot\n",
    "fig, ax = plt.subplots(figsize=(10,5))\n",
    "ax.set_title('ADA4898 Voltage Noise [V/$\\sqrt{Hz}$]')\n",
    "ax.semilogx(freq, mag1)\n",
    "ax.set_ylabel('Voltage Noise [V/$\\sqrt{Hz}$]')\n",
    "ax.ticklabel_format(style='sci', axis='y', scilimits=(-9,-9))\n",
    "ax.grid()\n",
    "plt.show();"
   ]
  },
  {
   "cell_type": "code",
   "execution_count": 6,
   "metadata": {},
   "outputs": [],
   "source": [
    "filepath = 'data/AD8691.txt'\n",
    "df = pd.read_csv(filepath)\n",
    "freq = df['frequency']\n",
    "mag1 = df['V(onoise)']\n",
    "mag2 = 20*np.log10(df['V(onoise)']/min(df['V(onoise)']))"
   ]
  },
  {
   "cell_type": "code",
   "execution_count": 7,
   "metadata": {
    "scrolled": true
   },
   "outputs": [
    {
     "data": {
      "image/png": "[encoded data removed]",
      "text/plain": [
       "<Figure size 720x360 with 1 Axes>"
      ]
     },
     "metadata": {
      "needs_background": "light"
     },
     "output_type": "display_data"
    }
   ],
   "source": [
    "#Plot\n",
    "fig, ax = plt.subplots(figsize=(10,5))\n",
    "ax.set_title('AD8691 Voltage Noise [V/$\\sqrt{Hz}$]')\n",
    "ax.semilogx(freq, mag1)\n",
    "ax.set_ylabel('Voltage Noise [V/$\\sqrt{Hz}$]')\n",
    "ax.ticklabel_format(style='sci', axis='y', scilimits=(-9,-9))\n",
    "ax.grid()\n",
    "plt.show();"
   ]
  },
  {
   "cell_type": "markdown",
   "metadata": {},
   "source": [
    "### Part B\n",
    "\n",
    "$\\begin{eqnarray}\n",
    "&& e_{n,out} &=& \\sqrt{e_{n}^2 + R_S^2 i_{n}^2} \\frac{V}{\\sqrt{\\text{Hz}}} \n",
    "\\end{eqnarray}$\n",
    "\n",
    "Since $R_S = 0$, then the voltage noise observed is $e_{n}$"
   ]
  },
  {
   "cell_type": "markdown",
   "metadata": {},
   "source": [
    "**ADA4898**\n",
    "<img src=\"images/ADA4898_noise_performance.png\" width=\"700\">\n",
    "\n",
    "**Ltspice**\n",
    "<img src=\"images/ADA4898_partB.png\" width=\"500\"><img>\n",
    "\n",
    "\n",
    "| frequency  | V(onoise)     |\n",
    "|-----------:|---------------|\n",
    "| 1 kHz      | 0.841671 nV   |\n",
    "\n",
    "<hr>"
   ]
  },
  {
   "cell_type": "markdown",
   "metadata": {},
   "source": [
    "**AD8691**\n",
    "<img src=\"images/AD8691_noise_performance.png\" width=\"700\">\n",
    "\n",
    "**Ltspice**\n",
    "<img src=\"images/AD8691_partB.png\" width=\"500\"><img>\n",
    "\n",
    "| frequency  | V(onoise)     |\n",
    "|-----------:|---------------|\n",
    "| 10 Hz      | 44.68291 nV |\n",
    "| 1 kHz      | 9.387410 nV |\n",
    "| 10 kHz     | 8.409573 nV |\n",
    "\n",
    "<hr>"
   ]
  },
  {
   "cell_type": "markdown",
   "metadata": {},
   "source": [
    "### Part C"
   ]
  },
  {
   "cell_type": "markdown",
   "metadata": {},
   "source": [
    "**ADA4898**\n",
    "\n",
    "$$\\begin{eqnarray}\n",
    "&& R_S &=&  10 \\cdot \\frac{0.9 \\text{nV}}{2.4 \\text{pA}}\n",
    "= 3750 \\Omega \\\\[0.5em]\n",
    "&& e_{n,out} &=& \\sqrt{e_{n}^2 + R_S^2 i_{n}^2} \\frac{V}{\\sqrt{\\text{Hz}}} \\\\[0.5em]\n",
    "&&           &=& \\sqrt{(0.9\\text{nV})^2 + 3750^2 (2.4\\text{pA})^2} \\frac{V} {\\sqrt{\\text{Hz}}} \\\\[0.5em]\n",
    "&&           &=& 9.405 \\frac{nV} {\\sqrt{\\text{Hz}}}\n",
    "\\end{eqnarray}$$\n",
    "\n",
    "<img src=\"images/ADA4898_partC.png\" width=\"500\"><img>\n",
    "\n",
    "| frequency  | V(onoise)     |\n",
    "|-----------:|---------------|\n",
    "| 1 kHz      | 11.0425 nV   |\n",
    "\n",
    "<hr>"
   ]
  },
  {
   "cell_type": "markdown",
   "metadata": {},
   "source": [
    "**AD8691**\n",
    "\n",
    "$$\\begin{eqnarray}\n",
    "&& R_S &=&  10 \\cdot \\frac{8 \\text{nV}}{0.05 \\text{pA}}\n",
    "= 1.6 \\cdot 10^6 \\Omega \\\\[0.5em]\n",
    "&& e_{n,out} &=& \\sqrt{e_{n}^2 + R_S^2 i_{n}^2} \\frac{V}{\\sqrt{\\text{Hz}}} \\\\[0.5em]\n",
    "&&           &=& \\sqrt{(8\\text{nV})^2 + 1.6\\text{MHz}^2 (0.05\\text{pA})^2} \\frac{V} {\\sqrt{\\text{Hz}}} \\\\[0.5em]\n",
    "&&           &=& 80.4 \\frac{nV}{\\sqrt{\\text{Hz}}}\n",
    "\\end{eqnarray}$$\n",
    "\n",
    "<img src=\"images/AD8691_partC.png\" width=\"500\"><img>\n",
    "\n",
    "| frequency  | V(onoise)     |\n",
    "|-----------:|---------------|\n",
    "| 10 Hz      | 446.8291 nV |\n",
    "| 1 kHz      | 93.87410 nV |\n",
    "| 10 kHz     | 84.09573 nV |\n",
    "\n",
    "<hr>"
   ]
  },
  {
   "cell_type": "markdown",
   "metadata": {},
   "source": [
    "### Part D\n",
    "\n",
    "$\\begin{eqnarray}\n",
    "&& v_{n,out(rms)} &=& \\sqrt{e_{n,out}^2 \\frac{\\pi}{2}\\beta f_T}  = \n",
    "   \\sqrt{e_{n,out}^2 f_{ENB}} \\rightarrow  \\sqrt{e_{n,out}^2 \\text{BW}} \\\\[0.5em]\n",
    "\\end{eqnarray}$"
   ]
  },
  {
   "cell_type": "markdown",
   "metadata": {},
   "source": [
    "**ADA4898**\n",
    "\n",
    "<img src=\"images/ADA4898_totalRMS.png\" width=\"300\"><img>\n",
    "\n",
    "$$\\begin{eqnarray}\n",
    "&& v_{n,out(rms)} &=& \\sqrt{e_{n,out}^2 1\\text{MHz}} \\\\[0.5em]\n",
    "&& &=& e_{n,out} \\cdot 10^3,& e_{n,out} = 0.9\\text{nV} \\\\[0.5em]\n",
    "&& &=& 0.9 \\mu \\text{V} \n",
    "\\end{eqnarray}$$\n",
    "\n",
    "The difference between ideal and actual is $\\frac{900-835}{900} = 7.22 \\%$. \n",
    "<hr>"
   ]
  },
  {
   "cell_type": "markdown",
   "metadata": {},
   "source": [
    "**AD8691**\n",
    "\n",
    "<img src=\"images/AD8691_totalRMS.png\" width=\"300\"><img>\n",
    "\n",
    "$$\\begin{eqnarray}\n",
    "&& v_{n,out(rms)} &=& \\sqrt{e_{n,out}^2 1\\text{MHz}}\\\\[0.5em]\n",
    "&& &=& e_{n,out} \\cdot 10^3,& e_{n,out} = 8\\text{nV} \\\\[0.5em]\n",
    "&& &=& 8 \\mu \\text{V}\n",
    "\\end{eqnarray}$$\n",
    "\n",
    "The difference between ideal and actual is $\\frac{8-5.55}{8} = 30.63 \\%$. This is a large difference that is probably due to the fact that the current noise density is much smaller than the spec value."
   ]
  },
  {
   "cell_type": "markdown",
   "metadata": {},
   "source": [
    " "
   ]
  },
  {
   "cell_type": "code",
   "execution_count": null,
   "metadata": {},
   "outputs": [],
   "source": []
  }
 ],
 "metadata": {
  "kernelspec": {
   "display_name": "Python 3",
   "language": "python",
   "name": "python3"
  },
  "language_info": {
   "codemirror_mode": {
    "name": "ipython",
    "version": 3
   },
   "file_extension": ".py",
   "mimetype": "text/x-python",
   "name": "python",
   "nbconvert_exporter": "python",
   "pygments_lexer": "ipython3",
   "version": "3.7.4"
  }
 },
 "nbformat": 4,
 "nbformat_minor": 2
}
