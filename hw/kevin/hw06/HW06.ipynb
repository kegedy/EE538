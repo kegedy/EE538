{
 "cells": [
  {
   "cell_type": "markdown",
   "metadata": {},
   "source": [
    "# Assignment 06\n",
    "EE 538 Spring 2020 <br>\n",
    "Analog Circuits for Sensor Systems <br>\n",
    "University of Washington Electrical & Computer Engineering <br>\n",
    "\n",
    "Due: May 23, 2020 <br>\n",
    "Author: Kevin Egedy"
   ]
  },
  {
   "cell_type": "code",
   "execution_count": 1,
   "metadata": {},
   "outputs": [],
   "source": [
    "# Imports\n",
    "import os\n",
    "import sys\n",
    "import cmath\n",
    "import math\n",
    "import matplotlib.pyplot as plt\n",
    "import matplotlib\n",
    "import numpy as np\n",
    "import pandas as pd\n",
    "import ltspice\n",
    "import sympy as sp\n",
    "from scipy import signal\n",
    "%matplotlib inline\n",
    "from IPython.core.interactiveshell import InteractiveShell\n",
    "InteractiveShell.ast_node_interactivity = \"all\""
   ]
  },
  {
   "cell_type": "code",
   "execution_count": 2,
   "metadata": {},
   "outputs": [],
   "source": [
    "def read_ltspice(file_name,ftype='trans',units='db'):\n",
    "    cols = []\n",
    "    arrs = []\n",
    "    with open(file_name, 'r',encoding='utf-8') as data:\n",
    "        for i,line in enumerate(data):\n",
    "            if i==0:\n",
    "                cols = line.split()\n",
    "                arrs = [[] for _ in cols]\n",
    "                continue\n",
    "            parts = line.split()\n",
    "            for j,part in enumerate(parts):\n",
    "                arrs[j].append(part)\n",
    "    df = pd.DataFrame(arrs,dtype='float64')\n",
    "    df = df.T\n",
    "    df.columns = cols\n",
    "    if ftype=='trans':\n",
    "        return df\n",
    "    elif ftype=='ac':\n",
    "        if units=='db':\n",
    "            for col in cols:\n",
    "                if df[col].str.contains(',').all():\n",
    "                    df[f'Mag_{col}'] = df[col].apply(lambda x: x.split(',')[0])\n",
    "                    df[f'Mag_{col}'] = df[f'Mag_{col}'].apply(lambda x: x[1:-2])\n",
    "                    df[f'Mag_{col}'] = df[f'Mag_{col}'].astype('float64')\n",
    "                    df[f'Phase_{col}'] = df[col].apply(lambda x: x.split(',')[1])\n",
    "                    df[f'Phase_{col}'] = df[f'Phase_{col}'].apply(lambda x: x[0:-2])\n",
    "                    df[f'Phase_{col}'] = df[f'Phase_{col}'].astype('float64')\n",
    "        if units=='cartesian':\n",
    "            for col in cols:\n",
    "                if df[col].str.contains(',').all():\n",
    "                    df[f'Re_{col}'] = df[col].apply(lambda x: x.split(',')[0])\n",
    "                    df[f'Re_{col}'] = df[f'Re_{col}'].astype('float64')\n",
    "                    df[f'Im_{col}'] = df[col].apply(lambda x: x.split(',')[1])\n",
    "                    df[f'Im_{col}'] = df[f'Im_{col}'].astype('float64')\n",
    "        df['Freq.'] = df['Freq.'].astype('float64')\n",
    "        return df\n",
    "    else:\n",
    "        print('invalid ftype')"
   ]
  },
  {
   "cell_type": "markdown",
   "metadata": {},
   "source": [
    "**Input-Referred Voltage Noise**\n",
    "\n",
    "<img src=\"images/input_voltage_noise.png\" width=\"300\">\n",
    "\n",
    "<hr>"
   ]
  },
  {
   "cell_type": "markdown",
   "metadata": {},
   "source": [
    "**Input Resistor Noise**\n",
    "\n",
    "<img src=\"images/input_resistor_noise.png\" width=\"300\">\n",
    "\n",
    "$$\\begin{eqnarray}\n",
    "&& e_{n1,out} &=& \\frac{-R_2}{R_1}e_{n1} \\\\[0.5em]\n",
    "&& e_{n1,out}^2 &=& (\\frac{R_2}{R_1})^2 4kTR_1 && \\frac{V^2}{\\text{Hz}}\n",
    "\\end{eqnarray}$$\n",
    "\n",
    "<hr>"
   ]
  },
  {
   "cell_type": "markdown",
   "metadata": {},
   "source": [
    "**Feedback Resistor Noise**\n",
    "\n",
    "<img src=\"images/feedback_resistor_noise.png\" width=\"300\">\n",
    "\n",
    "$$\\begin{eqnarray}\n",
    "&& e_{n2,out} &=& e_{n2} \\\\[0.5em]\n",
    "&& e_{n2,out}^2 &=& 4kTR_2 && \\frac{V^2}{\\text{Hz}}\n",
    "\\end{eqnarray}$$\n",
    "\n",
    "<hr>"
   ]
  },
  {
   "cell_type": "markdown",
   "metadata": {},
   "source": [
    "**Opamp Noise**\n",
    "\n",
    "<img src=\"images/opamp_noise.png\" width=\"300\">\n",
    "\n",
    "$$\\begin{eqnarray}\n",
    "&& e_{n,out} &=& (1+\\frac{R_2}{R_1})e_{na} \\\\[0.5em]\n",
    "&& e_{na,out}^2 &=& (1+\\frac{R_2}{R_1})^2 e_{na}^2 && \\frac{V^2}{\\text{Hz}}\n",
    "\\end{eqnarray}$$\n",
    "\n",
    "<hr>"
   ]
  },
  {
   "cell_type": "markdown",
   "metadata": {},
   "source": [
    "<img src=\"images/HW06Q1.png\" width=\"700\">"
   ]
  },
  {
   "cell_type": "markdown",
   "metadata": {},
   "source": [
    "**Part A**\n",
    "\n",
    "**Given**: $e_n = \\frac{10nV}{\\sqrt{\\text{Hz}}}, i_n = \\frac{1pA}{\\sqrt{\\text{Hz}}}, f_T = 10\\text{MHz}, kT = 4.1145e-21$\n",
    "\n",
    "$\\begin{eqnarray}\n",
    "&& A_V &=& \\frac{1}{\\beta} = \\frac{-R_f}{R_i} = 10 \\\\[0.5em]\n",
    "&& e_{n,out}^2 &=& (\\frac{R_f}{R_i})^2 4kTR_i + 4kTR_f + (1+\\frac{R_f}{R_i})^2 e_n^2 + (i_n R_f)^2 \\\\[0.5em]\n",
    "&& e_{n,out} &=& \\sqrt{(\\frac{R_f}{R_i})^2 4kTR_i + 4kTR_f + \n",
    "(1+\\frac{R_f}{R_i})^2 e_n^2 + (i_n R_f)^2} \\\\[0.5em]\n",
    "&& e_{n,out} &=& 1.18365 \\cdot 10^{-7} \\frac{V}{\\sqrt{\\text{Hz}}} \\\\[0.5em]\n",
    "&& e_{n,in} &\\approx& \\frac{e_{n,out}}{1/\\beta} \\\\[0.5em]\n",
    "&& e_{n,in} &=& 1.18365 \\cdot 10^{-8} \\frac{V}{\\sqrt{\\text{Hz}}}\n",
    "\\end{eqnarray}$\n",
    "\n",
    "<hr>"
   ]
  },
  {
   "cell_type": "markdown",
   "metadata": {},
   "source": [
    "**Part B**\n",
    "\n",
    "$\\begin{eqnarray}\n",
    "&& A_V &=& \\frac{1}{\\beta} = \\frac{-R_f}{R_i} = 10 \\\\[0.5em]\n",
    "&& f_{ENB} &=& \\frac{\\pi}{2} f_{3dB}  = \\frac{\\pi}{2} \\beta f_T \n",
    "\\approx 157 \\cdot 10^6 \\text{Hz} \\\\[0.5em]\n",
    "&& v_{n,out(rms)} &=& \\sqrt{e_{n,out}^2 \\frac{\\pi}{2}\\beta f_T}  = \n",
    "   \\sqrt{e_{n,out}^2 f_{ENB}}\\\\[0.5em]\n",
    "&& v_{n,in(rms)} &\\approx& \\frac{v_{n,out(rms)}}{1/\\beta} \\\\[0.5em]\n",
    "&& &=& \\beta \\sqrt{e_{n,out}^2 \\frac{\\pi}{2}f_T} \\\\[0.5em]\n",
    "&& &=& \\frac{1}{10} \\sqrt{(1.18365 \\cdot 10^{-7})^2 (157 \\cdot 10^6)} =\n",
    "       0.0001483 \\frac{V}{\\sqrt{\\text{Hz}}} \\\\[0.5em]\n",
    "\\end{eqnarray}$\n",
    "\n",
    "<hr>"
   ]
  },
  {
   "cell_type": "markdown",
   "metadata": {},
   "source": [
    "**Part C**\n",
    "\n",
    "<img src=\"images/HW06Q1_Ltspice.png\" width=\"500\">\n",
    "\n",
    "<img src=\"images/totalRMSnoise.png\" width=\"300\">"
   ]
  },
  {
   "cell_type": "code",
   "execution_count": 3,
   "metadata": {},
   "outputs": [],
   "source": [
    "filepath = 'data/fb_amp_noise.txt'\n",
    "df = pd.read_csv(filepath)\n",
    "freq = df['frequency']\n",
    "mag1 = df['V(inoise)']\n",
    "mag2 = df['V(onoise)']"
   ]
  },
  {
   "cell_type": "code",
   "execution_count": 4,
   "metadata": {},
   "outputs": [
    {
     "data": {
      "image/png": "[encoded data removed]",
      "text/plain": [
       "<Figure size 576x360 with 1 Axes>"
      ]
     },
     "metadata": {
      "needs_background": "light"
     },
     "output_type": "display_data"
    }
   ],
   "source": [
    "#Plot\n",
    "fig, ax = plt.subplots(figsize=(8,5))\n",
    "ax.semilogx(freq, mag2, label='Output Noise')\n",
    "ax.set_xlabel('Frequency [Hz]')\n",
    "ax.set_ylabel('Magnitude [dB]')\n",
    "ax.grid()\n",
    "ax.legend()\n",
    "plt.show();"
   ]
  },
  {
   "cell_type": "markdown",
   "metadata": {},
   "source": [
    "<img src=\"images/HW06Q2.png\" width=\"700\">"
   ]
  },
  {
   "cell_type": "markdown",
   "metadata": {},
   "source": [
    "**Part A**\n",
    "\n",
    "[ADA4898](https://www.analog.com/media/en/technical-documentation/data-sheets/ADA4898-1_4898-2.pdf)\n",
    "[AD8691](https://www.analog.com/media/en/technical-documentation/data-sheets/AD8691_8692_8694.pdf)\n",
    "\n",
    "|             | ADA4898 | AD8691  |\n",
    "|------------:|---------|---------|\n",
    "| $\\beta$ (V/V) | 1     | 1       |\n",
    "| $i_n$ (pA)  | 2.4     | 0.05    |\n",
    "| $e_n$ (nA)  | 0.9     | 8       |\n",
    "| $f_{3dB}$ (MHz) | 65  | 10      |\n",
    "\n",
    "<img src=\"images/ADA4898_noise.png\" style=\"float: left;width=300\"><img>\n",
    "\n",
    "<img src=\"images/AD8691_noise.png\" style=\"float: right;width=300\"><img>\n"
   ]
  },
  {
   "cell_type": "markdown",
   "metadata": {},
   "source": [
    "$$\\begin{align}\n",
    "  \\begin{array}{ll}\n",
    "    \\text{ADA4898: } f_{ENB} = \\frac{\\pi}{2} f_{3dB}  = 102 \\text{MHz} \\\\\n",
    "    \\text{AD8691: } f_{ENB} = \\frac{\\pi}{2} f_{3dB}  = 15.7 \\text{MHz}\n",
    "  \\end{array}\n",
    "\\end{align}$$"
   ]
  },
  {
   "cell_type": "code",
   "execution_count": 57,
   "metadata": {},
   "outputs": [],
   "source": [
    "filepath = 'data/ADA4898.txt'\n",
    "df = pd.read_csv(filepath)\n",
    "freq = df['frequency']\n",
    "mag1 = df['V(onoise)']"
   ]
  },
  {
   "cell_type": "code",
   "execution_count": 59,
   "metadata": {
    "scrolled": true
   },
   "outputs": [
    {
     "data": {
      "image/png": "[encoded data removed]",
      "text/plain": [
       "<Figure size 720x360 with 1 Axes>"
      ]
     },
     "metadata": {
      "needs_background": "light"
     },
     "output_type": "display_data"
    }
   ],
   "source": [
    "#Plot\n",
    "fig, ax = plt.subplots(figsize=(10,5))\n",
    "ax.set_title('ADA4898 Voltage Noise [nV/$\\sqrt{Hz}$]')\n",
    "ax.semilogx(freq, mag1)\n",
    "ax.set_ylabel('Voltage Noise [nV/$\\sqrt{Hz}$]')\n",
    "ax.grid()\n",
    "plt.show();"
   ]
  },
  {
   "cell_type": "code",
   "execution_count": 60,
   "metadata": {},
   "outputs": [
    {
     "name": "stdout",
     "output_type": "stream",
     "text": [
      "3dB magnitude: 14.79MHz\n"
     ]
    }
   ],
   "source": [
    "filepath = 'data/AD8691.txt'\n",
    "df = pd.read_csv(filepath)\n",
    "freq = df['frequency']\n",
    "mag1 = df['V(onoise)']\n",
    "mag2 = 20*np.log10(df['V(onoise)']/min(df['V(onoise)']))\n",
    "\n",
    "#Find 3dB Magnitude\n",
    "x0 = np.where(mag2<=3)[0][0]\n",
    "f0 = freq.iloc[x0]\n",
    "label = \"{:.2f}\".format(round(f0/1e6,2))\n",
    "print(f\"3dB magnitude: {label}MHz\")"
   ]
  },
  {
   "cell_type": "code",
   "execution_count": 61,
   "metadata": {
    "scrolled": true
   },
   "outputs": [
    {
     "data": {
      "image/png": "[encoded data removed]",
      "text/plain": [
       "<Figure size 720x360 with 2 Axes>"
      ]
     },
     "metadata": {
      "needs_background": "light"
     },
     "output_type": "display_data"
    }
   ],
   "source": [
    "#Plot\n",
    "fig, axs = plt.subplots(2,figsize=(10,5))\n",
    "axs[0].set_title('AD8691 Voltage Noise [nV/$\\sqrt{Hz}$]')\n",
    "axs[0].semilogx(freq, mag1)\n",
    "axs[0].set_ylabel('Voltage Noise [nV/$\\sqrt{Hz}$]')\n",
    "axs[0].grid()\n",
    "axs[1].semilogx(freq, mag2)\n",
    "axs[1].scatter(freq[x0], mag2[x0], label=f'3dB: {label}MHz')\n",
    "axs[1].set_xlabel('Frequency [Hz]')\n",
    "axs[1].set_ylabel('Magnitude [dB]')\n",
    "axs[1].legend()\n",
    "axs[1].grid()\n",
    "plt.show();"
   ]
  },
  {
   "cell_type": "markdown",
   "metadata": {},
   "source": [
    "### Part B\n",
    "\n",
    "$\\begin{eqnarray}\n",
    "&& e_{n,out} &=& \\sqrt{e_{n}^2 + R_S^2 i_{n}^2} \\frac{V}{\\sqrt{\\text{Hz}}} \n",
    "\\end{eqnarray}$\n",
    "\n",
    "Since $R_S = 0$, then the voltage noise observed is $e_{n}$"
   ]
  },
  {
   "cell_type": "markdown",
   "metadata": {},
   "source": [
    "**ADA4898**\n",
    "<img src=\"images/ADA4898_noise_performance.png\" width=\"700\">\n",
    "\n",
    "\n",
    "**Ltspice**\n",
    "\n",
    "| frequency  | V(onoise)     |\n",
    "|-----------:|---------------|\n",
    "| 1 kHz      | 0.841671 nV   |\n",
    "\n",
    "<hr>"
   ]
  },
  {
   "cell_type": "markdown",
   "metadata": {},
   "source": [
    "**AD8691**\n",
    "<img src=\"images/AD8691_noise_performance.png\" width=\"700\">\n",
    "\n",
    "\n",
    "**Ltspice**\n",
    "\n",
    "| frequency  | V(onoise)     |\n",
    "|-----------:|---------------|\n",
    "| 10 Hz      | 44.68291 nV |\n",
    "| 1 kHz      | 9.387410 nV |\n",
    "| 10 kHz     | 8.409573 nV |\n",
    "\n",
    "<hr>"
   ]
  },
  {
   "cell_type": "markdown",
   "metadata": {},
   "source": [
    "### Part C"
   ]
  },
  {
   "cell_type": "markdown",
   "metadata": {},
   "source": [
    "**ADA4898**\n",
    "\n",
    "| frequency  | V(onoise)     |\n",
    "|-----------:|---------------|\n",
    "| 1 kHz      | 11.0425 nV   |\n",
    "\n",
    "<img src=\"images/ADA4898_partC.png\" width=\"500\"><img>\n",
    "\n",
    "$$\\begin{eqnarray}\n",
    "&& R_S &=&  10 \\cdot \\frac{0.9 \\text{nV}}{2.4 \\text{pA}}\n",
    "= 3750 \\Omega \\\\[0.5em]\n",
    "&& e_{n,out} &=& \\sqrt{e_{n}^2 + R_S^2 i_{n}^2} \\frac{V}{\\sqrt{\\text{Hz}}} \\\\[0.5em]\n",
    "&&           &=& \\sqrt{(0.9\\text{nV})^2 + 3750^2 (2.4\\text{pA})^2} \\frac{V} {\\sqrt{\\text{Hz}}} \\\\[0.5em]\n",
    "&&           &=& 9.405 \\text{nV}\n",
    "\\end{eqnarray}$$\n",
    "\n",
    "<hr>"
   ]
  },
  {
   "cell_type": "markdown",
   "metadata": {},
   "source": [
    "**AD8691**\n",
    "\n",
    "| frequency  | V(onoise)     |\n",
    "|-----------:|---------------|\n",
    "| 10 Hz      | 44.68291 nV |\n",
    "| 1 kHz      | 9.387410 nV |\n",
    "| 10 kHz     | 8.409573 nV |\n",
    "\n",
    "<img src=\"images/AD8691_partC.png\" width=\"500\"><img>\n",
    "\n",
    "$$\\begin{eqnarray}\n",
    "&& R_S &=&  10 \\cdot \\frac{8 \\text{nV}}{0.05 \\text{pA}}\n",
    "= 1.6 \\cdot 10^6 \\Omega \\\\[0.5em]\n",
    "&& e_{n,out} &=& \\sqrt{e_{n}^2 + R_S^2 i_{n}^2} \\frac{V}{\\sqrt{\\text{Hz}}} \\\\[0.5em]\n",
    "&&           &=& \\sqrt{(8\\text{nV})^2 + 1.6\\text{MHz}^2 (0.05\\text{pA})^2} \\frac{V} {\\sqrt{\\text{Hz}}} \\\\[0.5em]\n",
    "&&           &=& 80.4 \\text{nV}\n",
    "\\end{eqnarray}$$\n",
    "\n",
    "<hr>"
   ]
  },
  {
   "cell_type": "markdown",
   "metadata": {},
   "source": [
    "### Part D\n",
    "\n",
    "$\\begin{eqnarray}\n",
    "&& v_{n,out(rms)} &=& \\sqrt{e_{n,out}^2 \\frac{\\pi}{2}\\beta f_T}  = \n",
    "   \\sqrt{e_{n,out}^2 f_{ENB}}\\\\[0.5em]\n",
    "\\end{eqnarray}$"
   ]
  },
  {
   "cell_type": "markdown",
   "metadata": {},
   "source": [
    "**ADA4898**\n",
    "\n",
    "<img src=\"images/ADA4898_totalRMS.png\" width=\"300\"><img>\n",
    "\n",
    "$$\\begin{eqnarray}\n",
    "&& v_{n,out(rms)} &=& \\sqrt{e_{n,out}^2 1\\text{MHz}} \\\\[0.5em]\n",
    "&& &=& e_{n,out} \\cdot 10^3 \\\\[0.5em]\n",
    "&& &=& 9.405 \\mu \\text{V}\n",
    "\\end{eqnarray}$$\n",
    "\n",
    "<hr>"
   ]
  },
  {
   "cell_type": "markdown",
   "metadata": {},
   "source": [
    "**AD8691**\n",
    "\n",
    "<img src=\"images/AD8691_totalRMS.png\" width=\"300\"><img>\n",
    "\n",
    "$$\\begin{eqnarray}\n",
    "&& v_{n,out(rms)} &=& \\sqrt{e_{n,out}^2 1\\text{MHz}}\\\\[0.5em]\n",
    "&& &=& e_{n,out} \\cdot 10^3 \\\\[0.5em]\n",
    "&& &=& 80.4 \\mu \\text{V}\n",
    "\\end{eqnarray}$$"
   ]
  },
  {
   "cell_type": "markdown",
   "metadata": {},
   "source": [
    " "
   ]
  },
  {
   "cell_type": "code",
   "execution_count": null,
   "metadata": {},
   "outputs": [],
   "source": []
  }
 ],
 "metadata": {
  "kernelspec": {
   "display_name": "Python 3",
   "language": "python",
   "name": "python3"
  },
  "language_info": {
   "codemirror_mode": {
    "name": "ipython",
    "version": 3
   },
   "file_extension": ".py",
   "mimetype": "text/x-python",
   "name": "python",
   "nbconvert_exporter": "python",
   "pygments_lexer": "ipython3",
   "version": "3.7.4"
  }
 },
 "nbformat": 4,
 "nbformat_minor": 2
}
